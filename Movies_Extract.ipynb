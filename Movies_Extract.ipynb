{
 "cells": [
  {
   "cell_type": "code",
   "execution_count": 5,
   "id": "a2c938f5",
   "metadata": {},
   "outputs": [],
   "source": [
    "import pandas as pd\n",
    "import os\n",
    "import matplotlib\n",
    "import numpy as np\n",
    "import json\n",
    "import csv"
   ]
  },
  {
   "cell_type": "code",
   "execution_count": 6,
   "id": "ef570a61",
   "metadata": {},
   "outputs": [],
   "source": [
    "file_path=\"C:\\\\Users\\shail\\Movies-ETL\\wikipedia-movies.json\""
   ]
  },
  {
   "cell_type": "code",
   "execution_count": 7,
   "id": "16e1a694",
   "metadata": {},
   "outputs": [
    {
     "data": {
      "text/plain": [
       "7311"
      ]
     },
     "execution_count": 7,
     "metadata": {},
     "output_type": "execute_result"
    }
   ],
   "source": [
    "#Using with and load load the file as list of dictionaries\n",
    "with open(file_path,mode='r') as file:\n",
    "    wiki_movies_raw=json.load(file)\n",
    "#print(wiki_movies_raw[0]['Produced by'])\n",
    "len(wiki_movies_raw)"
   ]
  },
  {
   "cell_type": "code",
   "execution_count": 8,
   "id": "d11e1505",
   "metadata": {},
   "outputs": [
    {
     "ename": "NameError",
     "evalue": "name 'wiki_movies_df' is not defined",
     "output_type": "error",
     "traceback": [
      "\u001b[1;31m---------------------------------------------------------------------------\u001b[0m",
      "\u001b[1;31mNameError\u001b[0m                                 Traceback (most recent call last)",
      "\u001b[1;32m<ipython-input-8-b46daad3d637>\u001b[0m in \u001b[0;36m<module>\u001b[1;34m\u001b[0m\n\u001b[0;32m      2\u001b[0m \u001b[0mwiki_movies__raw_df\u001b[0m\u001b[1;33m=\u001b[0m\u001b[0mpd\u001b[0m\u001b[1;33m.\u001b[0m\u001b[0mDataFrame\u001b[0m\u001b[1;33m(\u001b[0m\u001b[0mwiki_movies_raw\u001b[0m\u001b[1;33m)\u001b[0m\u001b[1;33m\u001b[0m\u001b[1;33m\u001b[0m\u001b[0m\n\u001b[0;32m      3\u001b[0m \u001b[1;31m#wiki_movies_df.head()\u001b[0m\u001b[1;33m\u001b[0m\u001b[1;33m\u001b[0m\u001b[1;33m\u001b[0m\u001b[0m\n\u001b[1;32m----> 4\u001b[1;33m \u001b[0mwiki_movies_df\u001b[0m\u001b[1;33m.\u001b[0m\u001b[0mcolumns\u001b[0m\u001b[1;33m.\u001b[0m\u001b[0mtolist\u001b[0m\u001b[1;33m(\u001b[0m\u001b[1;33m)\u001b[0m\u001b[1;33m\u001b[0m\u001b[1;33m\u001b[0m\u001b[0m\n\u001b[0m",
      "\u001b[1;31mNameError\u001b[0m: name 'wiki_movies_df' is not defined"
     ]
    }
   ],
   "source": [
    "len(wiki_movies_raw)\n",
    "wiki_movies__raw_df=pd.DataFrame(wiki_movies_raw)\n",
    "#wiki_movies_df.head()\n",
    "wiki_movies_df.columns.tolist()"
   ]
  },
  {
   "cell_type": "code",
   "execution_count": 9,
   "id": "e625527b",
   "metadata": {},
   "outputs": [],
   "source": [
    "#loop through wiki_movies_raw and get only those movies who has a director and imdb link\n",
    "wiki_movies=[movie for movie in wiki_movies_raw\n",
    "              if ('Director' in movie or 'Directed by' in movie)\n",
    "              and 'imdb_link' in movie\n",
    "              and 'No. of episodes'not in movie\n",
    "            ]\n",
    "            \n",
    "\n",
    "wiki_movies_df=pd.DataFrame(wiki_movies)\n",
    "#wiki_movies_df.head(111)\n",
    "#print(wiki_movies[111])"
   ]
  },
  {
   "cell_type": "code",
   "execution_count": 10,
   "id": "b8656ae0",
   "metadata": {},
   "outputs": [
    {
     "data": {
      "text/plain": [
       "6834    https://en.wikipedia.org/wiki/The_Insult_(film)\n",
       "7058     https://en.wikipedia.org/wiki/Capernaum_(film)\n",
       "Name: url, dtype: object"
      ]
     },
     "execution_count": 10,
     "metadata": {},
     "output_type": "execute_result"
    }
   ],
   "source": [
    "\n",
    "wiki_movies_df[wiki_movies_df['Arabic'].notnull()]['url']"
   ]
  },
  {
   "cell_type": "code",
   "execution_count": null,
   "id": "04eb5bad",
   "metadata": {},
   "outputs": [],
   "source": []
  },
  {
   "cell_type": "code",
   "execution_count": 11,
   "id": "8490852e",
   "metadata": {},
   "outputs": [],
   "source": [
    "def clean_movie(movie):\n",
    "    movie = dict(movie)\n",
    "    #List of alternative titles(languages)\n",
    "    alternative_titles={}\n",
    "    for key in ['Also known as','Arabic','Cantonese','Chinese','French',\n",
    "                'Hangul','Hebrew','Hepburn','Japanese','Literally',\n",
    "                'Mandarin','McCune–Reischauer','Original title','Polish',\n",
    "                'Revised Romanization','Romanized','Russian',\n",
    "                'Simplified','Traditional','Yiddish']:\n",
    "        if key in movie:\n",
    "            alternative_titles[key]=movie[key]\n",
    "            movie.pop(key)\n",
    "    #print(movie['url'])\n",
    "    #print(alternative_titles)\n",
    "    if len(alternative_titles) >0:\n",
    "        movie['alt_titles']= alternative_titles\n",
    "        \n",
    "    # merge column names\n",
    "    def change_column_name(old_name, new_name):\n",
    "        if old_name in movie:\n",
    "            movie[new_name] = movie.pop(old_name)\n",
    "            #print(movie['url'])\n",
    "            #print(\"............\")\n",
    "            #print(f\"{new_name},{movie[new_name]}\")\n",
    "            \n",
    "    change_column_name('Adaptation by', 'Writer(s)')\n",
    "    change_column_name('Country of origin', 'Country')\n",
    "    change_column_name('Directed by', 'Director')\n",
    "    change_column_name('Distributed by', 'Distributor')\n",
    "    change_column_name('Edited by', 'Editor(s)')\n",
    "    change_column_name('Length', 'Running time')\n",
    "    change_column_name('Original release', 'Release date')\n",
    "    change_column_name('Music by', 'Composer(s)')\n",
    "    change_column_name('Produced by', 'Producer(s)')\n",
    "    change_column_name('Producer', 'Producer(s)')\n",
    "    change_column_name('Productioncompanies ', 'Production company(s)')\n",
    "    change_column_name('Productioncompany ', 'Production company(s)')\n",
    "    change_column_name('Released', 'Release Date')\n",
    "    change_column_name('Release Date', 'Release date')\n",
    "    change_column_name('Screen story by', 'Writer(s)')\n",
    "    change_column_name('Screenplay by', 'Writer(s)')\n",
    "    change_column_name('Story by', 'Writer(s)')\n",
    "    change_column_name('Theme music composer', 'Composer(s)')\n",
    "    change_column_name('Written by', 'Writer(s)')\n",
    "    \n",
    "    \n",
    "    \n",
    "    \n",
    "    return movie\n",
    "    "
   ]
  },
  {
   "cell_type": "code",
   "execution_count": null,
   "id": "2e94c160",
   "metadata": {},
   "outputs": [],
   "source": []
  },
  {
   "cell_type": "code",
   "execution_count": 12,
   "id": "1f72c956",
   "metadata": {},
   "outputs": [],
   "source": [
    "clean_movies=[clean_movie(movie) for movie in wiki_movies]\n",
    "#print(clean_movies[0])"
   ]
  },
  {
   "cell_type": "code",
   "execution_count": 13,
   "id": "f7f79b57",
   "metadata": {},
   "outputs": [
    {
     "data": {
      "text/plain": [
       "['Animation by',\n",
       " 'Audio format',\n",
       " 'Based on',\n",
       " 'Box office',\n",
       " 'Budget',\n",
       " 'Cinematography',\n",
       " 'Color process',\n",
       " 'Composer(s)',\n",
       " 'Country',\n",
       " 'Created by',\n",
       " 'Director',\n",
       " 'Distributor',\n",
       " 'Editor(s)',\n",
       " 'Executive producer(s)',\n",
       " 'Followed by',\n",
       " 'Genre',\n",
       " 'Label',\n",
       " 'Language',\n",
       " 'Narrated by',\n",
       " 'Original language(s)',\n",
       " 'Original network',\n",
       " 'Picture format',\n",
       " 'Preceded by',\n",
       " 'Producer(s)',\n",
       " 'Production company(s)',\n",
       " 'Production location(s)',\n",
       " 'Recorded',\n",
       " 'Release date',\n",
       " 'Running time',\n",
       " 'Starring',\n",
       " 'Suggested by',\n",
       " 'Venue',\n",
       " 'Voices of',\n",
       " 'Writer(s)',\n",
       " 'alt_titles',\n",
       " 'imdb_link',\n",
       " 'title',\n",
       " 'url',\n",
       " 'year']"
      ]
     },
     "execution_count": 13,
     "metadata": {},
     "output_type": "execute_result"
    }
   ],
   "source": [
    "wiki_movies_df = pd.DataFrame(clean_movies)\n",
    "sorted(wiki_movies_df.columns.tolist())\n"
   ]
  },
  {
   "cell_type": "code",
   "execution_count": 14,
   "id": "219bba6a",
   "metadata": {},
   "outputs": [
    {
     "name": "stdout",
     "output_type": "stream",
     "text": [
      "7076\n",
      "7033\n"
     ]
    }
   ],
   "source": [
    "#Columns are cleaned up..now clean up the rows\n",
    "#Extract imdb id from movie url\n",
    "wiki_movies_df['imdb_id']=wiki_movies_df['imdb_link'].str.extract(r'(tt\\d{7})')\n",
    "print(len(wiki_movies_df))\n",
    "wiki_movies_df.drop_duplicates(subset='imdb_id',inplace=True)\n",
    "print(len(wiki_movies_df))"
   ]
  },
  {
   "cell_type": "code",
   "execution_count": 15,
   "id": "56d8fd5b",
   "metadata": {},
   "outputs": [
    {
     "data": {
      "text/plain": [
       "Index(['url', 'year', 'imdb_link', 'title', 'Based on', 'Starring',\n",
       "       'Narrated by', 'Cinematography', 'Release date', 'Running time',\n",
       "       'Country', 'Language', 'Budget', 'Box office', 'Director',\n",
       "       'Distributor', 'Editor(s)', 'Composer(s)', 'Producer(s)',\n",
       "       'Production company(s)', 'Writer(s)', 'Genre', 'Original language(s)',\n",
       "       'Original network', 'Executive producer(s)', 'Production location(s)',\n",
       "       'Picture format', 'Audio format', 'Voices of', 'Followed by',\n",
       "       'Created by', 'Preceded by', 'Suggested by', 'alt_titles', 'Recorded',\n",
       "       'Venue', 'Label', 'Animation by', 'Color process', 'imdb_id'],\n",
       "      dtype='object')"
      ]
     },
     "execution_count": 15,
     "metadata": {},
     "output_type": "execute_result"
    }
   ],
   "source": [
    "wiki_movies_df.columns"
   ]
  },
  {
   "cell_type": "code",
   "execution_count": null,
   "id": "ec5ba5de",
   "metadata": {
    "scrolled": true
   },
   "outputs": [],
   "source": [
    "#Drop all the null values from all the columns\n",
    "wiki_columns_to_keep = [column for column in wiki_movies_df.columns if wiki_movies_df[column].isnull().sum() < len(wiki_movies_df) * 0.9]\n",
    "wiki_movies_df = wiki_movies_df[wiki_columns_to_keep]\n",
    "wiki_movies_df"
   ]
  },
  {
   "cell_type": "code",
   "execution_count": 16,
   "id": "fc793cd0",
   "metadata": {},
   "outputs": [
    {
     "data": {
      "text/plain": [
       "7033"
      ]
     },
     "execution_count": 16,
     "metadata": {},
     "output_type": "execute_result"
    }
   ],
   "source": [
    "len(wiki_movies_df)"
   ]
  },
  {
   "cell_type": "code",
   "execution_count": 17,
   "id": "a57cbcbf",
   "metadata": {},
   "outputs": [
    {
     "name": "stdout",
     "output_type": "stream",
     "text": [
      "url : 0\n",
      "year : 0\n",
      "imdb_link : 0\n",
      "title : 1\n",
      "Based on : 4852\n",
      "Starring : 184\n",
      "Narrated by : 6752\n",
      "Cinematography : 691\n",
      "Release date : 32\n",
      "Running time : 139\n",
      "Country : 236\n",
      "Language : 244\n",
      "Budget : 2295\n",
      "Box office : 1548\n",
      "Director : 0\n",
      "Distributor : 357\n",
      "Editor(s) : 548\n",
      "Composer(s) : 518\n",
      "Producer(s) : 202\n",
      "Production company(s) : 1678\n",
      "Writer(s) : 199\n",
      "Genre : 6923\n",
      "Original language(s) : 6875\n",
      "Original network : 6908\n",
      "Executive producer(s) : 6936\n",
      "Production location(s) : 6986\n",
      "Picture format : 6969\n",
      "Audio format : 6972\n",
      "Voices of : 7031\n",
      "Followed by : 7024\n",
      "Created by : 7023\n",
      "Preceded by : 7023\n",
      "Suggested by : 7032\n",
      "alt_titles : 7012\n",
      "Recorded : 7031\n",
      "Venue : 7032\n",
      "Label : 7031\n",
      "Animation by : 7031\n",
      "Color process : 7032\n",
      "imdb_id : 0\n"
     ]
    }
   ],
   "source": [
    "#Alternative for loop\n",
    "for column in wiki_movies_df.columns:\n",
    "    col=wiki_movies_df[column].isnull().sum()\n",
    "    print(f\"{column} : {col}\")"
   ]
  },
  {
   "cell_type": "code",
   "execution_count": 18,
   "id": "835a286d",
   "metadata": {},
   "outputs": [
    {
     "data": {
      "text/plain": [
       "url                       object\n",
       "year                       int64\n",
       "imdb_link                 object\n",
       "title                     object\n",
       "Based on                  object\n",
       "Starring                  object\n",
       "Narrated by               object\n",
       "Cinematography            object\n",
       "Release date              object\n",
       "Running time              object\n",
       "Country                   object\n",
       "Language                  object\n",
       "Budget                    object\n",
       "Box office                object\n",
       "Director                  object\n",
       "Distributor               object\n",
       "Editor(s)                 object\n",
       "Composer(s)               object\n",
       "Producer(s)               object\n",
       "Production company(s)     object\n",
       "Writer(s)                 object\n",
       "Genre                     object\n",
       "Original language(s)      object\n",
       "Original network          object\n",
       "Executive producer(s)     object\n",
       "Production location(s)    object\n",
       "Picture format            object\n",
       "Audio format              object\n",
       "Voices of                 object\n",
       "Followed by               object\n",
       "Created by                object\n",
       "Preceded by               object\n",
       "Suggested by              object\n",
       "alt_titles                object\n",
       "Recorded                  object\n",
       "Venue                     object\n",
       "Label                     object\n",
       "Animation by              object\n",
       "Color process             object\n",
       "imdb_id                   object\n",
       "dtype: object"
      ]
     },
     "execution_count": 18,
     "metadata": {},
     "output_type": "execute_result"
    }
   ],
   "source": [
    "wiki_movies_df.dtypes"
   ]
  },
  {
   "cell_type": "code",
   "execution_count": 24,
   "id": "720f74e1",
   "metadata": {},
   "outputs": [
    {
     "name": "stdout",
     "output_type": "stream",
     "text": [
      "7033\n"
     ]
    },
    {
     "data": {
      "text/plain": [
       "5485"
      ]
     },
     "execution_count": 24,
     "metadata": {},
     "output_type": "execute_result"
    }
   ],
   "source": [
    "print(len(wiki_movies_df['Box office']))\n",
    "box_office = wiki_movies_df['Box office'].dropna()\n",
    "len(box_office)"
   ]
  },
  {
   "cell_type": "code",
   "execution_count": 25,
   "id": "7d069e85",
   "metadata": {},
   "outputs": [
    {
     "data": {
      "text/plain": [
       "34                           [US$, 4,212,828]\n",
       "54      [$6,698,361 (, United States, ), [2]]\n",
       "74                    [$6,488,144, (US), [1]]\n",
       "126                [US$1,531,489, (domestic)]\n",
       "130                          [US$, 4,803,039]\n",
       "                        ...                  \n",
       "6980               [$99.6, million, [4], [5]]\n",
       "6994                   [$365.6, million, [1]]\n",
       "6995                         [$53.8, million]\n",
       "7015                     [$435, million, [7]]\n",
       "7048                   [$529.3, million, [4]]\n",
       "Name: Box office, Length: 135, dtype: object"
      ]
     },
     "execution_count": 25,
     "metadata": {},
     "output_type": "execute_result"
    }
   ],
   "source": [
    "def is_not_a_string(x):\n",
    "    return type(x) != str\n",
    "\n",
    "box_office[box_office.map(is_not_a_string)]"
   ]
  },
  {
   "cell_type": "code",
   "execution_count": 27,
   "id": "13515676",
   "metadata": {},
   "outputs": [
    {
     "data": {
      "text/plain": [
       "34                           [US$, 4,212,828]\n",
       "54      [$6,698,361 (, United States, ), [2]]\n",
       "74                    [$6,488,144, (US), [1]]\n",
       "126                [US$1,531,489, (domestic)]\n",
       "130                          [US$, 4,803,039]\n",
       "                        ...                  \n",
       "6980               [$99.6, million, [4], [5]]\n",
       "6994                   [$365.6, million, [1]]\n",
       "6995                         [$53.8, million]\n",
       "7015                     [$435, million, [7]]\n",
       "7048                   [$529.3, million, [4]]\n",
       "Name: Box office, Length: 135, dtype: object"
      ]
     },
     "execution_count": 27,
     "metadata": {},
     "output_type": "execute_result"
    }
   ],
   "source": [
    "#lambda version of is not a string function\n",
    "#lambda x: type(x) != str\n",
    "\n",
    "box_office[box_office.map(lambda x: type(x) != str)]"
   ]
  },
  {
   "cell_type": "code",
   "execution_count": null,
   "id": "328e43bb",
   "metadata": {
    "scrolled": true
   },
   "outputs": [],
   "source": [
    "#load the kaggle data into df\n",
    "movies_metadata=\"C:\\\\Users\\shail\\Movies-ETL\\movies_metadata.csv\"\n",
    "movies_metadata_pd=pd.read_csv(movies_metadata,low_memory=\"False\")\n",
    "\n",
    "#movies_metadata_pd.head()"
   ]
  },
  {
   "cell_type": "code",
   "execution_count": null,
   "id": "73164d9d",
   "metadata": {},
   "outputs": [],
   "source": []
  },
  {
   "cell_type": "code",
   "execution_count": null,
   "id": "1440ce6c",
   "metadata": {},
   "outputs": [],
   "source": [
    "ratings_path=os.path.join('ratings.csv')\n",
    "ratings_df=pd.read_csv(ratings_path)\n",
    "ratings_df.sample(n=7)"
   ]
  },
  {
   "cell_type": "code",
   "execution_count": null,
   "id": "5f976a1d",
   "metadata": {},
   "outputs": [],
   "source": []
  }
 ],
 "metadata": {
  "kernelspec": {
   "display_name": "PythonData",
   "language": "python",
   "name": "pythondata"
  },
  "language_info": {
   "codemirror_mode": {
    "name": "ipython",
    "version": 3
   },
   "file_extension": ".py",
   "mimetype": "text/x-python",
   "name": "python",
   "nbconvert_exporter": "python",
   "pygments_lexer": "ipython3",
   "version": "3.7.10"
  }
 },
 "nbformat": 4,
 "nbformat_minor": 5
}
