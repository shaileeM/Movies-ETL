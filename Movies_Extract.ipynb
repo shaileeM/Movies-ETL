{
 "cells": [
  {
   "cell_type": "code",
   "execution_count": 1,
   "id": "a2c938f5",
   "metadata": {},
   "outputs": [],
   "source": [
    "import pandas as pd\n",
    "import os\n",
    "import matplotlib\n",
    "import numpy as np\n",
    "import json\n",
    "import csv\n",
    "import re"
   ]
  },
  {
   "cell_type": "code",
   "execution_count": 2,
   "id": "ef570a61",
   "metadata": {},
   "outputs": [],
   "source": [
    "file_path=\"C:\\\\Users\\shail\\Movies-ETL\\wikipedia-movies.json\""
   ]
  },
  {
   "cell_type": "code",
   "execution_count": 3,
   "id": "16e1a694",
   "metadata": {},
   "outputs": [
    {
     "data": {
      "text/plain": [
       "7311"
      ]
     },
     "execution_count": 3,
     "metadata": {},
     "output_type": "execute_result"
    }
   ],
   "source": [
    "#Using with and load load the file as list of dictionaries\n",
    "with open(file_path,mode='r') as file:\n",
    "    wiki_movies_raw=json.load(file)\n",
    "#print(wiki_movies_raw[0]['Produced by'])\n",
    "len(wiki_movies_raw)"
   ]
  },
  {
   "cell_type": "code",
   "execution_count": 4,
   "id": "d11e1505",
   "metadata": {},
   "outputs": [
    {
     "ename": "NameError",
     "evalue": "name 'wiki_movies_df' is not defined",
     "output_type": "error",
     "traceback": [
      "\u001b[1;31m---------------------------------------------------------------------------\u001b[0m",
      "\u001b[1;31mNameError\u001b[0m                                 Traceback (most recent call last)",
      "\u001b[1;32m<ipython-input-4-b46daad3d637>\u001b[0m in \u001b[0;36m<module>\u001b[1;34m\u001b[0m\n\u001b[0;32m      2\u001b[0m \u001b[0mwiki_movies__raw_df\u001b[0m\u001b[1;33m=\u001b[0m\u001b[0mpd\u001b[0m\u001b[1;33m.\u001b[0m\u001b[0mDataFrame\u001b[0m\u001b[1;33m(\u001b[0m\u001b[0mwiki_movies_raw\u001b[0m\u001b[1;33m)\u001b[0m\u001b[1;33m\u001b[0m\u001b[1;33m\u001b[0m\u001b[0m\n\u001b[0;32m      3\u001b[0m \u001b[1;31m#wiki_movies_df.head()\u001b[0m\u001b[1;33m\u001b[0m\u001b[1;33m\u001b[0m\u001b[1;33m\u001b[0m\u001b[0m\n\u001b[1;32m----> 4\u001b[1;33m \u001b[0mwiki_movies_df\u001b[0m\u001b[1;33m.\u001b[0m\u001b[0mcolumns\u001b[0m\u001b[1;33m.\u001b[0m\u001b[0mtolist\u001b[0m\u001b[1;33m(\u001b[0m\u001b[1;33m)\u001b[0m\u001b[1;33m\u001b[0m\u001b[1;33m\u001b[0m\u001b[0m\n\u001b[0m",
      "\u001b[1;31mNameError\u001b[0m: name 'wiki_movies_df' is not defined"
     ]
    }
   ],
   "source": [
    "len(wiki_movies_raw)\n",
    "wiki_movies__raw_df=pd.DataFrame(wiki_movies_raw)\n",
    "#wiki_movies_df.head()\n",
    "wiki_movies_df.columns.tolist()"
   ]
  },
  {
   "cell_type": "code",
   "execution_count": null,
   "id": "e625527b",
   "metadata": {},
   "outputs": [],
   "source": [
    "#loop through wiki_movies_raw and get only those movies who has a director and imdb link\n",
    "wiki_movies=[movie for movie in wiki_movies_raw\n",
    "              if ('Director' in movie or 'Directed by' in movie)\n",
    "              and 'imdb_link' in movie\n",
    "              and 'No. of episodes'not in movie\n",
    "            ]\n",
    "            \n",
    "\n",
    "wiki_movies_df=pd.DataFrame(wiki_movies)\n",
    "#wiki_movies_df.head(111)\n",
    "#print(wiki_movies[111])"
   ]
  },
  {
   "cell_type": "code",
   "execution_count": null,
   "id": "b8656ae0",
   "metadata": {},
   "outputs": [],
   "source": [
    "\n",
    "wiki_movies_df[wiki_movies_df['Arabic'].notnull()]['url']"
   ]
  },
  {
   "cell_type": "code",
   "execution_count": null,
   "id": "04eb5bad",
   "metadata": {},
   "outputs": [],
   "source": []
  },
  {
   "cell_type": "code",
   "execution_count": null,
   "id": "8490852e",
   "metadata": {},
   "outputs": [],
   "source": [
    "def clean_movie(movie):\n",
    "    movie = dict(movie)\n",
    "    #List of alternative titles(languages)\n",
    "    alternative_titles={}\n",
    "    for key in ['Also known as','Arabic','Cantonese','Chinese','French',\n",
    "                'Hangul','Hebrew','Hepburn','Japanese','Literally',\n",
    "                'Mandarin','McCune–Reischauer','Original title','Polish',\n",
    "                'Revised Romanization','Romanized','Russian',\n",
    "                'Simplified','Traditional','Yiddish']:\n",
    "        if key in movie:\n",
    "            alternative_titles[key]=movie[key]\n",
    "            movie.pop(key)\n",
    "    #print(movie['url'])\n",
    "    #print(alternative_titles)\n",
    "    if len(alternative_titles) >0:\n",
    "        movie['alt_titles']= alternative_titles\n",
    "        \n",
    "    # merge column names\n",
    "    def change_column_name(old_name, new_name):\n",
    "        if old_name in movie:\n",
    "            movie[new_name] = movie.pop(old_name)\n",
    "            #print(movie['url'])\n",
    "            #print(\"............\")\n",
    "            #print(f\"{new_name},{movie[new_name]}\")\n",
    "            \n",
    "    change_column_name('Adaptation by', 'Writer(s)')\n",
    "    change_column_name('Country of origin', 'Country')\n",
    "    change_column_name('Directed by', 'Director')\n",
    "    change_column_name('Distributed by', 'Distributor')\n",
    "    change_column_name('Edited by', 'Editor(s)')\n",
    "    change_column_name('Length', 'Running time')\n",
    "    change_column_name('Original release', 'Release date')\n",
    "    change_column_name('Music by', 'Composer(s)')\n",
    "    change_column_name('Produced by', 'Producer(s)')\n",
    "    change_column_name('Producer', 'Producer(s)')\n",
    "    change_column_name('Productioncompanies ', 'Production company(s)')\n",
    "    change_column_name('Productioncompany ', 'Production company(s)')\n",
    "    change_column_name('Released', 'Release Date')\n",
    "    change_column_name('Release Date', 'Release date')\n",
    "    change_column_name('Screen story by', 'Writer(s)')\n",
    "    change_column_name('Screenplay by', 'Writer(s)')\n",
    "    change_column_name('Story by', 'Writer(s)')\n",
    "    change_column_name('Theme music composer', 'Composer(s)')\n",
    "    change_column_name('Written by', 'Writer(s)')\n",
    "    \n",
    "    \n",
    "    \n",
    "    \n",
    "    return movie\n",
    "    "
   ]
  },
  {
   "cell_type": "code",
   "execution_count": null,
   "id": "2e94c160",
   "metadata": {},
   "outputs": [],
   "source": []
  },
  {
   "cell_type": "code",
   "execution_count": null,
   "id": "1f72c956",
   "metadata": {},
   "outputs": [],
   "source": [
    "clean_movies=[clean_movie(movie) for movie in wiki_movies]\n",
    "#print(clean_movies[0])"
   ]
  },
  {
   "cell_type": "code",
   "execution_count": null,
   "id": "f7f79b57",
   "metadata": {},
   "outputs": [],
   "source": [
    "wiki_movies_df = pd.DataFrame(clean_movies)\n",
    "sorted(wiki_movies_df.columns.tolist())\n"
   ]
  },
  {
   "cell_type": "code",
   "execution_count": null,
   "id": "219bba6a",
   "metadata": {},
   "outputs": [],
   "source": [
    "#Columns are cleaned up..now clean up the rows\n",
    "#Extract imdb id from movie url\n",
    "wiki_movies_df['imdb_id']=wiki_movies_df['imdb_link'].str.extract(r'(tt\\d{7})')\n",
    "print(len(wiki_movies_df))\n",
    "wiki_movies_df.drop_duplicates(subset='imdb_id',inplace=True)\n",
    "print(len(wiki_movies_df))"
   ]
  },
  {
   "cell_type": "code",
   "execution_count": null,
   "id": "56d8fd5b",
   "metadata": {},
   "outputs": [],
   "source": [
    "wiki_movies_df.columns"
   ]
  },
  {
   "cell_type": "code",
   "execution_count": null,
   "id": "ec5ba5de",
   "metadata": {
    "scrolled": true
   },
   "outputs": [],
   "source": [
    "#Drop all the null values from all the columns\n",
    "wiki_columns_to_keep = [column for column in wiki_movies_df.columns if wiki_movies_df[column].isnull().sum() < len(wiki_movies_df) * 0.9]\n",
    "wiki_movies_df = wiki_movies_df[wiki_columns_to_keep]\n",
    "wiki_movies_df"
   ]
  },
  {
   "cell_type": "code",
   "execution_count": null,
   "id": "fc793cd0",
   "metadata": {},
   "outputs": [],
   "source": [
    "len(wiki_movies_df)"
   ]
  },
  {
   "cell_type": "code",
   "execution_count": null,
   "id": "a57cbcbf",
   "metadata": {},
   "outputs": [],
   "source": [
    "#Alternative for loop\n",
    "for column in wiki_movies_df.columns:\n",
    "    col=wiki_movies_df[column].isnull().sum()\n",
    "    print(f\"{column} : {col}\")"
   ]
  },
  {
   "cell_type": "code",
   "execution_count": null,
   "id": "139f2dce",
   "metadata": {},
   "outputs": [],
   "source": [
    "wiki_movies_df.dtypes"
   ]
  },
  {
   "cell_type": "code",
   "execution_count": null,
   "id": "c5530e3b",
   "metadata": {},
   "outputs": [],
   "source": [
    "print(len(wiki_movies_df['Box office']))\n",
    "box_office = wiki_movies_df['Box office'].dropna()\n",
    "len(box_office)\n",
    "wiki_movies_df['Box office'].head(60)"
   ]
  },
  {
   "cell_type": "code",
   "execution_count": null,
   "id": "f1434431",
   "metadata": {
    "scrolled": true
   },
   "outputs": [],
   "source": [
    "def is_not_a_string(x):\n",
    "    return type(x) != str\n",
    "\n",
    "box_office[box_office.map(is_not_a_string)]"
   ]
  },
  {
   "cell_type": "code",
   "execution_count": null,
   "id": "775e0c55",
   "metadata": {},
   "outputs": [],
   "source": [
    "box_office.map(lambda x: type(x) != str)"
   ]
  },
  {
   "cell_type": "code",
   "execution_count": null,
   "id": "1476ea2e",
   "metadata": {},
   "outputs": [],
   "source": []
  },
  {
   "cell_type": "code",
   "execution_count": null,
   "id": "1f0995af",
   "metadata": {},
   "outputs": [],
   "source": [
    "#lambda version of is not a string function\n",
    "#lambda x: type(x) != str\n",
    "\n",
    "box_office[box_office.map(lambda x: type(x) != str)]"
   ]
  },
  {
   "cell_type": "code",
   "execution_count": null,
   "id": "936de35b",
   "metadata": {},
   "outputs": [],
   "source": [
    "#few of the values are stored in list.. we can join the values into strings\n",
    "box_office= box_office.apply(lambda x: ' '.join(x) if type(x) == list else x)\n",
    "box_office.head(45)"
   ]
  },
  {
   "cell_type": "code",
   "execution_count": null,
   "id": "3bbe5b02",
   "metadata": {},
   "outputs": [],
   "source": [
    "#use regex to find the amount type is in which form\n",
    "# form 1 is of the type $123.4 million/billion.\n",
    "\n",
    "form_one = r'\\$\\s*\\d+\\.?\\d*\\s*[mb]illi?on'\n",
    "box_office.str.contains(form_one, flags=re.IGNORECASE).sum()\n"
   ]
  },
  {
   "cell_type": "code",
   "execution_count": null,
   "id": "fb50ef34",
   "metadata": {},
   "outputs": [],
   "source": [
    "#form 2 is of the type \"$123,456,789\"\n",
    "\n",
    "form_two = r'\\$\\s*\\d{1,3}(?:[,\\.]\\d{3})+(?!\\s[mb]illion)'\n",
    "box_office.str.contains(form_two, flags=re.IGNORECASE).sum()"
   ]
  },
  {
   "cell_type": "code",
   "execution_count": null,
   "id": "4d2b2805",
   "metadata": {},
   "outputs": [],
   "source": [
    "matches_form_one = box_office.str.contains(form_one, flags=re.IGNORECASE)\n",
    "matches_form_two = box_office.str.contains(form_two, flags=re.IGNORECASE)"
   ]
  },
  {
   "cell_type": "code",
   "execution_count": null,
   "id": "f300aa49",
   "metadata": {},
   "outputs": [],
   "source": [
    "#find values which are neither type 1 or 2\n",
    "box_office[~matches_form_one & ~matches_form_two].count()"
   ]
  },
  {
   "cell_type": "code",
   "execution_count": null,
   "id": "6e151e4e",
   "metadata": {},
   "outputs": [],
   "source": [
    "#make a function which takes in a string\n",
    "# matches that against the regex provided\n",
    "def parse_dollars(s):\n",
    "    #if s is not a string return nan\n",
    "    if type(s) != str:\n",
    "        return np.nan\n",
    "    \n",
    "    #if input is of the form $###.# million  $566.6 milliion\n",
    "    if re.match(r'\\$\\s*\\d+\\.?\\d*\\s*milli?on', s, flags=re.IGNORECASE):\n",
    "        #remove dollar signs, spaces, commas, and letters\n",
    "        s = re.sub('\\$|\\s|[a-zA-Z]','', s)\n",
    "        \n",
    "        # convert to float and multiply by a million\n",
    "        value = float(s) * 10**6\n",
    "\n",
    "        # return value\n",
    "        return value\n",
    "    \n",
    "    #if input if of the form ####.# billion\n",
    "    elif re.match(r'\\$\\s*\\d+\\.?\\d*\\s*billi?on', s, flags=re.IGNORECASE):\n",
    "        #remove dollar sign, spaces, commas and letters\n",
    "        s=re.sub('\\$|\\s|[a-zA-Z]','',s)\n",
    "        \n",
    "        #convert to float and multiple by billion\n",
    "        value=float(s) * 10**9\n",
    "        return value\n",
    "    \n",
    "    #if input is of the form $###,###,###\n",
    "    elif re.match(r'\\$\\s*\\d{1,3}(?:[,\\.]\\d{3})+(?!\\s[mb]illion)',s,flags=re.IGNORECASE):\n",
    "        #remove $ sign and comma\n",
    "        s = re.sub('\\$|,','', s)\n",
    "        # convert to float\n",
    "        value = float(s)\n",
    "        # return value\n",
    "        return value\n",
    "    \n",
    "    else:\n",
    "        return np.nan\n",
    "    "
   ]
  },
  {
   "cell_type": "code",
   "execution_count": null,
   "id": "a928c7aa",
   "metadata": {},
   "outputs": [],
   "source": [
    "#wiki_movies_df['box_office'] = box_office.str.extract(f'({form_one}|{form_two})', flags=re.IGNORECASE)[0].apply(parse_dollars)"
   ]
  },
  {
   "cell_type": "code",
   "execution_count": null,
   "id": "328e43bb",
   "metadata": {
    "scrolled": true
   },
   "outputs": [],
   "source": [
    "#load the kaggle data into df\n",
    "movies_metadata=\"C:\\\\Users\\shail\\Movies-ETL\\movies_metadata.csv\"\n",
    "movies_metadata_pd=pd.read_csv(movies_metadata,low_memory=\"False\")\n",
    "\n",
    "#movies_metadata_pd.head()"
   ]
  },
  {
   "cell_type": "code",
   "execution_count": null,
   "id": "73164d9d",
   "metadata": {},
   "outputs": [],
   "source": [
    "wiki_movies_df['box_office'] = box_office.str.extract(f'({form_one}|{form_two})', flags=re.IGNORECASE)[0].apply(parse_dollars)"
   ]
  },
  {
   "cell_type": "code",
   "execution_count": null,
   "id": "1a491a59",
   "metadata": {
    "scrolled": true
   },
   "outputs": [],
   "source": [
    "print(wiki_movies_df['box_office'])"
   ]
  },
  {
   "cell_type": "code",
   "execution_count": null,
   "id": "5c1e5dda",
   "metadata": {},
   "outputs": [],
   "source": [
    "wiki_movies_df.drop('Box office', axis=1, inplace=True)"
   ]
  },
  {
   "cell_type": "code",
   "execution_count": null,
   "id": "1440ce6c",
   "metadata": {},
   "outputs": [],
   "source": [
    "ratings_path=os.path.join('ratings.csv')\n",
    "ratings_df=pd.read_csv(ratings_path)\n",
    "ratings_df.sample(n=7)"
   ]
  },
  {
   "cell_type": "code",
   "execution_count": null,
   "id": "5f976a1d",
   "metadata": {},
   "outputs": [],
   "source": [
    "wiki_movies_df.columns"
   ]
  },
  {
   "cell_type": "code",
   "execution_count": null,
   "id": "047d7389",
   "metadata": {},
   "outputs": [],
   "source": [
    "#Now clean the budget colum the same way as box_office columm\n",
    "wiki_movies_df['Budget'].count()\n",
    "budget=wiki_movies_df['Budget'].dropna()\n"
   ]
  },
  {
   "cell_type": "code",
   "execution_count": null,
   "id": "bd964e9f",
   "metadata": {
    "scrolled": true
   },
   "outputs": [],
   "source": [
    "budget"
   ]
  },
  {
   "cell_type": "code",
   "execution_count": null,
   "id": "03035e39",
   "metadata": {},
   "outputs": [],
   "source": [
    "budget.tail()"
   ]
  },
  {
   "cell_type": "code",
   "execution_count": null,
   "id": "6497695e",
   "metadata": {},
   "outputs": [],
   "source": [
    "#Convert any lists to strings:\n",
    "budget.map(lambda x:' '.join(x) if type(x) == list else x)"
   ]
  },
  {
   "cell_type": "code",
   "execution_count": null,
   "id": "a2cc285d",
   "metadata": {},
   "outputs": [],
   "source": [
    "budget.to_csv('export_budget.csv')"
   ]
  },
  {
   "cell_type": "code",
   "execution_count": null,
   "id": "7324609e",
   "metadata": {},
   "outputs": [],
   "source": [
    "#Then remove any values between a dollar sign and a hyphen (for budgets given in ranges):  $20-25 million or $13,000,000 (Estimated)\n",
    "budget = budget.str.replace(r'\\$.*[-—–](?![a-z])', '$', regex=True)    "
   ]
  },
  {
   "cell_type": "code",
   "execution_count": null,
   "id": "72dc681a",
   "metadata": {
    "scrolled": true
   },
   "outputs": [],
   "source": [
    "budget"
   ]
  },
  {
   "cell_type": "code",
   "execution_count": null,
   "id": "071ffe90",
   "metadata": {},
   "outputs": [],
   "source": [
    "budget = budget.str.replace(r'\\[\\d+\\]\\s*', '')"
   ]
  },
  {
   "cell_type": "code",
   "execution_count": null,
   "id": "89fb6a21",
   "metadata": {},
   "outputs": [],
   "source": [
    "\n",
    "matches_form_one = budget.str.contains(form_one, flags=re.IGNORECASE, na=False)\n",
    "matches_form_two = budget.str.contains(form_two, flags=re.IGNORECASE, na= False)\n",
    "\n",
    "\n",
    "#box_office[~matches_form_one & ~matches_form_two].count()\n",
    "budget[~matches_form_one & matches_form_two]\n",
    "#matches_form_one"
   ]
  },
  {
   "cell_type": "code",
   "execution_count": null,
   "id": "a9bfd856",
   "metadata": {},
   "outputs": [],
   "source": [
    "wiki_movies_df['budget'] = budget.str.extract(f'({form_one}|{form_two})', flags=re.IGNORECASE)[0].apply(parse_dollars)"
   ]
  },
  {
   "cell_type": "code",
   "execution_count": null,
   "id": "a85218da",
   "metadata": {},
   "outputs": [],
   "source": [
    "wiki_movies_df.drop('Budget', axis=1, inplace=True)"
   ]
  },
  {
   "cell_type": "code",
   "execution_count": null,
   "id": "52d0baa9",
   "metadata": {},
   "outputs": [],
   "source": [
    "#parse the release date column now\n",
    "wiki_movies_df.columns"
   ]
  },
  {
   "cell_type": "code",
   "execution_count": null,
   "id": "d1da690d",
   "metadata": {},
   "outputs": [],
   "source": [
    "wiki_movies_df['Release date']"
   ]
  },
  {
   "cell_type": "code",
   "execution_count": null,
   "id": "02d67888",
   "metadata": {},
   "outputs": [],
   "source": [
    "#converting all values from list to string\n",
    "release_date=wiki_movies_df['Release date'].dropna().apply(lambda x: ' '.join(x) if type(x)== list else x)"
   ]
  },
  {
   "cell_type": "code",
   "execution_count": null,
   "id": "7ffdb703",
   "metadata": {},
   "outputs": [],
   "source": [
    "#Parsing Full month name, one- to two-digit day, four-digit year (i.e., January 1, 2000)\n",
    "date_form_one = r'(?:January|February|March|April|May|June|July|August|September|October|November|December)\\s[123]\\d,\\s\\d{4}'\n",
    "\n",
    "#Four-digit year, two-digit month, two-digit day, with any separator (i.e., 2000-01-01)\n",
    "date_form_two=r'\\d{4}.[01]\\d.[123]\\d'\n",
    "\n",
    "#Full month name, four-digit year (i.e., January 2000)\n",
    "date_form_three=r'(?:January|February|March|April|May|June|July|August|September|October|November|December)\\s\\d{4}'\n",
    "\n",
    "#Four-digit year\n",
    "date_form_four=r'\\d{4}'"
   ]
  },
  {
   "cell_type": "code",
   "execution_count": null,
   "id": "f59a8b19",
   "metadata": {
    "scrolled": true
   },
   "outputs": [],
   "source": [
    "release_date.str.extract(f'({date_form_one}|{date_form_two}|{date_form_three}|{date_form_four})', flags=re.IGNORECASE)"
   ]
  },
  {
   "cell_type": "code",
   "execution_count": null,
   "id": "60851d16",
   "metadata": {},
   "outputs": [],
   "source": []
  },
  {
   "cell_type": "code",
   "execution_count": null,
   "id": "8bedf701",
   "metadata": {},
   "outputs": [],
   "source": [
    "wiki_movies_df['release_date'] = pd.to_datetime(release_date.str.extract(f'({date_form_one}|{date_form_two}|{date_form_three}|{date_form_four})')[0], infer_datetime_format=True)"
   ]
  },
  {
   "cell_type": "code",
   "execution_count": null,
   "id": "01c2fab2",
   "metadata": {},
   "outputs": [],
   "source": [
    "release_date.isnull().count()"
   ]
  },
  {
   "cell_type": "code",
   "execution_count": null,
   "id": "c01239b7",
   "metadata": {},
   "outputs": [],
   "source": [
    "#Parse running type\n",
    "running_time = wiki_movies_df['Running time'].dropna().apply(lambda x: ' '.join(x) if type(x) == list else x)"
   ]
  },
  {
   "cell_type": "code",
   "execution_count": null,
   "id": "40200adb",
   "metadata": {},
   "outputs": [],
   "source": [
    "running_time"
   ]
  },
  {
   "cell_type": "code",
   "execution_count": null,
   "id": "9e7164b2",
   "metadata": {},
   "outputs": [],
   "source": [
    "#Use string boundaries to find how many values are of the type \"100 minutes etc\"\n",
    "\n",
    "print(running_time[running_time.str.contains(r'^\\d*\\s*minutes$', flags=re.IGNORECASE) != True])"
   ]
  },
  {
   "cell_type": "code",
   "execution_count": null,
   "id": "7bf83194",
   "metadata": {
    "scrolled": true
   },
   "outputs": [],
   "source": [
    "#filteringm more by accepting other abbreviations of minutes by putting only m\n",
    "running_time.str.contains(r'^\\d*\\s*m', flags=re.IGNORECASE).sum()"
   ]
  },
  {
   "cell_type": "code",
   "execution_count": null,
   "id": "c327c699",
   "metadata": {},
   "outputs": [],
   "source": [
    "running_time[running_time.str.contains(r'\\d*\\s*m', flags=re.IGNORECASE) != True]"
   ]
  },
  {
   "cell_type": "code",
   "execution_count": null,
   "id": "44d98005",
   "metadata": {},
   "outputs": [],
   "source": [
    "running_time_extract = running_time.str.extract(r'(\\d+)\\s*ho?u?r?s?\\s*(\\d*)|(\\d+)\\s*m')"
   ]
  },
  {
   "cell_type": "code",
   "execution_count": null,
   "id": "d9fe4c9e",
   "metadata": {},
   "outputs": [],
   "source": [
    "running_time_extract = running_time_extract.apply(lambda col: pd.to_numeric(col, errors='coerce')).fillna(0)"
   ]
  },
  {
   "cell_type": "code",
   "execution_count": null,
   "id": "b4997e6e",
   "metadata": {},
   "outputs": [],
   "source": [
    "wiki_movies_df['running_time'] = running_time_extract.apply(lambda row: row[0]*60 + row[1] if row[2] == 0 else row[2], axis=1)"
   ]
  },
  {
   "cell_type": "code",
   "execution_count": null,
   "id": "caf4f154",
   "metadata": {},
   "outputs": [],
   "source": [
    "wiki_movies_df.drop('Running time', axis=1, inplace=True)"
   ]
  },
  {
   "cell_type": "code",
   "execution_count": 15,
   "id": "fa1d2071",
   "metadata": {},
   "outputs": [
    {
     "name": "stderr",
     "output_type": "stream",
     "text": [
      "C:\\Users\\shail\\anaconda3\\envs\\PythonData\\lib\\site-packages\\IPython\\core\\interactiveshell.py:3166: DtypeWarning: Columns (10) have mixed types.Specify dtype option on import or set low_memory=False.\n",
      "  interactivity=interactivity, compiler=compiler, result=result)\n"
     ]
    },
    {
     "data": {
      "text/plain": [
       "adult                     object\n",
       "belongs_to_collection     object\n",
       "budget                    object\n",
       "genres                    object\n",
       "homepage                  object\n",
       "id                        object\n",
       "imdb_id                   object\n",
       "original_language         object\n",
       "original_title            object\n",
       "overview                  object\n",
       "popularity                object\n",
       "poster_path               object\n",
       "production_companies      object\n",
       "production_countries      object\n",
       "release_date              object\n",
       "revenue                  float64\n",
       "runtime                  float64\n",
       "spoken_languages          object\n",
       "status                    object\n",
       "tagline                   object\n",
       "title                     object\n",
       "video                     object\n",
       "vote_average             float64\n",
       "vote_count               float64\n",
       "dtype: object"
      ]
     },
     "execution_count": 15,
     "metadata": {},
     "output_type": "execute_result"
    }
   ],
   "source": [
    "#load the kaggle data into df\n",
    "movies_metadata=\"C:\\\\Users\\shail\\Movies-ETL\\movies_metadata.csv\"\n",
    "kaggle_metadata=pd.read_csv(movies_metadata,low_memory=\"False\")\n",
    "\n",
    "#movies_metadata_pd.head()\n",
    "kaggle_metadata.dtypes"
   ]
  },
  {
   "cell_type": "code",
   "execution_count": 16,
   "id": "1127d716",
   "metadata": {},
   "outputs": [
    {
     "data": {
      "text/plain": [
       "False                                                                                                                             45454\n",
       "True                                                                                                                                  9\n",
       " - Written by Ørnås                                                                                                                   1\n",
       " Rune Balot goes to a casino connected to the October corporation to try to wrap up her case once and for all.                        1\n",
       " Avalanche Sharks tells the story of a bikini contest that turns into a horrifying affair when it is hit by a shark avalanche.        1\n",
       "Name: adult, dtype: int64"
      ]
     },
     "execution_count": 16,
     "metadata": {},
     "output_type": "execute_result"
    }
   ],
   "source": [
    "kaggle_metadata['adult'].value_counts()"
   ]
  },
  {
   "cell_type": "code",
   "execution_count": 17,
   "id": "2f42404a",
   "metadata": {},
   "outputs": [
    {
     "data": {
      "text/html": [
       "<div>\n",
       "<style scoped>\n",
       "    .dataframe tbody tr th:only-of-type {\n",
       "        vertical-align: middle;\n",
       "    }\n",
       "\n",
       "    .dataframe tbody tr th {\n",
       "        vertical-align: top;\n",
       "    }\n",
       "\n",
       "    .dataframe thead th {\n",
       "        text-align: right;\n",
       "    }\n",
       "</style>\n",
       "<table border=\"1\" class=\"dataframe\">\n",
       "  <thead>\n",
       "    <tr style=\"text-align: right;\">\n",
       "      <th></th>\n",
       "      <th>adult</th>\n",
       "      <th>belongs_to_collection</th>\n",
       "      <th>budget</th>\n",
       "      <th>genres</th>\n",
       "      <th>homepage</th>\n",
       "      <th>id</th>\n",
       "      <th>imdb_id</th>\n",
       "      <th>original_language</th>\n",
       "      <th>original_title</th>\n",
       "      <th>overview</th>\n",
       "      <th>...</th>\n",
       "      <th>release_date</th>\n",
       "      <th>revenue</th>\n",
       "      <th>runtime</th>\n",
       "      <th>spoken_languages</th>\n",
       "      <th>status</th>\n",
       "      <th>tagline</th>\n",
       "      <th>title</th>\n",
       "      <th>video</th>\n",
       "      <th>vote_average</th>\n",
       "      <th>vote_count</th>\n",
       "    </tr>\n",
       "  </thead>\n",
       "  <tbody>\n",
       "    <tr>\n",
       "      <th>19730</th>\n",
       "      <td>- Written by Ørnås</td>\n",
       "      <td>0.065736</td>\n",
       "      <td>/ff9qCepilowshEtG2GYWwzt2bs4.jpg</td>\n",
       "      <td>[{'name': 'Carousel Productions', 'id': 11176}...</td>\n",
       "      <td>[{'iso_3166_1': 'CA', 'name': 'Canada'}, {'iso...</td>\n",
       "      <td>1997-08-20</td>\n",
       "      <td>0</td>\n",
       "      <td>104.0</td>\n",
       "      <td>[{'iso_639_1': 'en', 'name': 'English'}]</td>\n",
       "      <td>Released</td>\n",
       "      <td>...</td>\n",
       "      <td>1</td>\n",
       "      <td>NaN</td>\n",
       "      <td>NaN</td>\n",
       "      <td>NaN</td>\n",
       "      <td>NaN</td>\n",
       "      <td>NaN</td>\n",
       "      <td>NaN</td>\n",
       "      <td>NaN</td>\n",
       "      <td>NaN</td>\n",
       "      <td>NaN</td>\n",
       "    </tr>\n",
       "    <tr>\n",
       "      <th>29503</th>\n",
       "      <td>Rune Balot goes to a casino connected to the ...</td>\n",
       "      <td>1.931659</td>\n",
       "      <td>/zV8bHuSL6WXoD6FWogP9j4x80bL.jpg</td>\n",
       "      <td>[{'name': 'Aniplex', 'id': 2883}, {'name': 'Go...</td>\n",
       "      <td>[{'iso_3166_1': 'US', 'name': 'United States o...</td>\n",
       "      <td>2012-09-29</td>\n",
       "      <td>0</td>\n",
       "      <td>68.0</td>\n",
       "      <td>[{'iso_639_1': 'ja', 'name': '日本語'}]</td>\n",
       "      <td>Released</td>\n",
       "      <td>...</td>\n",
       "      <td>12</td>\n",
       "      <td>NaN</td>\n",
       "      <td>NaN</td>\n",
       "      <td>NaN</td>\n",
       "      <td>NaN</td>\n",
       "      <td>NaN</td>\n",
       "      <td>NaN</td>\n",
       "      <td>NaN</td>\n",
       "      <td>NaN</td>\n",
       "      <td>NaN</td>\n",
       "    </tr>\n",
       "    <tr>\n",
       "      <th>35587</th>\n",
       "      <td>Avalanche Sharks tells the story of a bikini ...</td>\n",
       "      <td>2.185485</td>\n",
       "      <td>/zaSf5OG7V8X8gqFvly88zDdRm46.jpg</td>\n",
       "      <td>[{'name': 'Odyssey Media', 'id': 17161}, {'nam...</td>\n",
       "      <td>[{'iso_3166_1': 'CA', 'name': 'Canada'}]</td>\n",
       "      <td>2014-01-01</td>\n",
       "      <td>0</td>\n",
       "      <td>82.0</td>\n",
       "      <td>[{'iso_639_1': 'en', 'name': 'English'}]</td>\n",
       "      <td>Released</td>\n",
       "      <td>...</td>\n",
       "      <td>22</td>\n",
       "      <td>NaN</td>\n",
       "      <td>NaN</td>\n",
       "      <td>NaN</td>\n",
       "      <td>NaN</td>\n",
       "      <td>NaN</td>\n",
       "      <td>NaN</td>\n",
       "      <td>NaN</td>\n",
       "      <td>NaN</td>\n",
       "      <td>NaN</td>\n",
       "    </tr>\n",
       "  </tbody>\n",
       "</table>\n",
       "<p>3 rows × 24 columns</p>\n",
       "</div>"
      ],
      "text/plain": [
       "                                                   adult  \\\n",
       "19730                                 - Written by Ørnås   \n",
       "29503   Rune Balot goes to a casino connected to the ...   \n",
       "35587   Avalanche Sharks tells the story of a bikini ...   \n",
       "\n",
       "      belongs_to_collection                            budget  \\\n",
       "19730              0.065736  /ff9qCepilowshEtG2GYWwzt2bs4.jpg   \n",
       "29503              1.931659  /zV8bHuSL6WXoD6FWogP9j4x80bL.jpg   \n",
       "35587              2.185485  /zaSf5OG7V8X8gqFvly88zDdRm46.jpg   \n",
       "\n",
       "                                                  genres  \\\n",
       "19730  [{'name': 'Carousel Productions', 'id': 11176}...   \n",
       "29503  [{'name': 'Aniplex', 'id': 2883}, {'name': 'Go...   \n",
       "35587  [{'name': 'Odyssey Media', 'id': 17161}, {'nam...   \n",
       "\n",
       "                                                homepage          id imdb_id  \\\n",
       "19730  [{'iso_3166_1': 'CA', 'name': 'Canada'}, {'iso...  1997-08-20       0   \n",
       "29503  [{'iso_3166_1': 'US', 'name': 'United States o...  2012-09-29       0   \n",
       "35587           [{'iso_3166_1': 'CA', 'name': 'Canada'}]  2014-01-01       0   \n",
       "\n",
       "      original_language                            original_title  overview  \\\n",
       "19730             104.0  [{'iso_639_1': 'en', 'name': 'English'}]  Released   \n",
       "29503              68.0      [{'iso_639_1': 'ja', 'name': '日本語'}]  Released   \n",
       "35587              82.0  [{'iso_639_1': 'en', 'name': 'English'}]  Released   \n",
       "\n",
       "       ... release_date revenue runtime spoken_languages status  tagline  \\\n",
       "19730  ...            1     NaN     NaN              NaN    NaN      NaN   \n",
       "29503  ...           12     NaN     NaN              NaN    NaN      NaN   \n",
       "35587  ...           22     NaN     NaN              NaN    NaN      NaN   \n",
       "\n",
       "       title video vote_average vote_count  \n",
       "19730    NaN   NaN          NaN        NaN  \n",
       "29503    NaN   NaN          NaN        NaN  \n",
       "35587    NaN   NaN          NaN        NaN  \n",
       "\n",
       "[3 rows x 24 columns]"
      ]
     },
     "execution_count": 17,
     "metadata": {},
     "output_type": "execute_result"
    }
   ],
   "source": [
    "#Remove the bad data from above cell\n",
    "kaggle_metadata[~kaggle_metadata['adult'].isin(['True','False'])]"
   ]
  },
  {
   "cell_type": "code",
   "execution_count": 18,
   "id": "1c8058cf",
   "metadata": {},
   "outputs": [
    {
     "name": "stdout",
     "output_type": "stream",
     "text": [
      "                                   belongs_to_collection    budget  \\\n",
      "0      {'id': 10194, 'name': 'Toy Story Collection', ...  30000000   \n",
      "1                                                    NaN  65000000   \n",
      "2      {'id': 119050, 'name': 'Grumpy Old Men Collect...         0   \n",
      "3                                                    NaN  16000000   \n",
      "4      {'id': 96871, 'name': 'Father of the Bride Col...         0   \n",
      "...                                                  ...       ...   \n",
      "45461                                                NaN         0   \n",
      "45462                                                NaN         0   \n",
      "45463                                                NaN         0   \n",
      "45464                                                NaN         0   \n",
      "45465                                                NaN         0   \n",
      "\n",
      "                                                  genres  \\\n",
      "0      [{'id': 16, 'name': 'Animation'}, {'id': 35, '...   \n",
      "1      [{'id': 12, 'name': 'Adventure'}, {'id': 14, '...   \n",
      "2      [{'id': 10749, 'name': 'Romance'}, {'id': 35, ...   \n",
      "3      [{'id': 35, 'name': 'Comedy'}, {'id': 18, 'nam...   \n",
      "4                         [{'id': 35, 'name': 'Comedy'}]   \n",
      "...                                                  ...   \n",
      "45461  [{'id': 18, 'name': 'Drama'}, {'id': 10751, 'n...   \n",
      "45462                      [{'id': 18, 'name': 'Drama'}]   \n",
      "45463  [{'id': 28, 'name': 'Action'}, {'id': 18, 'nam...   \n",
      "45464                                                 []   \n",
      "45465                                                 []   \n",
      "\n",
      "                                   homepage      id    imdb_id  \\\n",
      "0      http://toystory.disney.com/toy-story     862  tt0114709   \n",
      "1                                       NaN    8844  tt0113497   \n",
      "2                                       NaN   15602  tt0113228   \n",
      "3                                       NaN   31357  tt0114885   \n",
      "4                                       NaN   11862  tt0113041   \n",
      "...                                     ...     ...        ...   \n",
      "45461  http://www.imdb.com/title/tt6209470/  439050  tt6209470   \n",
      "45462                                   NaN  111109  tt2028550   \n",
      "45463                                   NaN   67758  tt0303758   \n",
      "45464                                   NaN  227506  tt0008536   \n",
      "45465                                   NaN  461257  tt6980792   \n",
      "\n",
      "      original_language               original_title  \\\n",
      "0                    en                    Toy Story   \n",
      "1                    en                      Jumanji   \n",
      "2                    en             Grumpier Old Men   \n",
      "3                    en            Waiting to Exhale   \n",
      "4                    en  Father of the Bride Part II   \n",
      "...                 ...                          ...   \n",
      "45461                fa                      رگ خواب   \n",
      "45462                tl          Siglo ng Pagluluwal   \n",
      "45463                en                     Betrayal   \n",
      "45464                en          Satana likuyushchiy   \n",
      "45465                en                     Queerama   \n",
      "\n",
      "                                                overview popularity  ...  \\\n",
      "0      Led by Woody, Andy's toys live happily in his ...  21.946943  ...   \n",
      "1      When siblings Judy and Peter discover an encha...  17.015539  ...   \n",
      "2      A family wedding reignites the ancient feud be...    11.7129  ...   \n",
      "3      Cheated on, mistreated and stepped on, the wom...   3.859495  ...   \n",
      "4      Just when George Banks has recovered from his ...   8.387519  ...   \n",
      "...                                                  ...        ...  ...   \n",
      "45461        Rising and falling between a man and woman.   0.072051  ...   \n",
      "45462  An artist struggles to finish his work while a...   0.178241  ...   \n",
      "45463  When one of her hits goes wrong, a professiona...   0.903007  ...   \n",
      "45464  In a small town live two brothers, one a minis...   0.003503  ...   \n",
      "45465  50 years after decriminalisation of homosexual...   0.163015  ...   \n",
      "\n",
      "      release_date      revenue runtime  \\\n",
      "0       1995-10-30  373554033.0    81.0   \n",
      "1       1995-12-15  262797249.0   104.0   \n",
      "2       1995-12-22          0.0   101.0   \n",
      "3       1995-12-22   81452156.0   127.0   \n",
      "4       1995-02-10   76578911.0   106.0   \n",
      "...            ...          ...     ...   \n",
      "45461          NaN          0.0    90.0   \n",
      "45462   2011-11-17          0.0   360.0   \n",
      "45463   2003-08-01          0.0    90.0   \n",
      "45464   1917-10-21          0.0    87.0   \n",
      "45465   2017-06-09          0.0    75.0   \n",
      "\n",
      "                                        spoken_languages    status  \\\n",
      "0               [{'iso_639_1': 'en', 'name': 'English'}]  Released   \n",
      "1      [{'iso_639_1': 'en', 'name': 'English'}, {'iso...  Released   \n",
      "2               [{'iso_639_1': 'en', 'name': 'English'}]  Released   \n",
      "3               [{'iso_639_1': 'en', 'name': 'English'}]  Released   \n",
      "4               [{'iso_639_1': 'en', 'name': 'English'}]  Released   \n",
      "...                                                  ...       ...   \n",
      "45461             [{'iso_639_1': 'fa', 'name': 'فارسی'}]  Released   \n",
      "45462                  [{'iso_639_1': 'tl', 'name': ''}]  Released   \n",
      "45463           [{'iso_639_1': 'en', 'name': 'English'}]  Released   \n",
      "45464                                                 []  Released   \n",
      "45465           [{'iso_639_1': 'en', 'name': 'English'}]  Released   \n",
      "\n",
      "                                                 tagline  \\\n",
      "0                                                    NaN   \n",
      "1              Roll the dice and unleash the excitement!   \n",
      "2      Still Yelling. Still Fighting. Still Ready for...   \n",
      "3      Friends are the people who let you be yourself...   \n",
      "4      Just When His World Is Back To Normal... He's ...   \n",
      "...                                                  ...   \n",
      "45461         Rising and falling between a man and woman   \n",
      "45462                                                NaN   \n",
      "45463                             A deadly game of wits.   \n",
      "45464                                                NaN   \n",
      "45465                                                NaN   \n",
      "\n",
      "                             title  video vote_average vote_count  \n",
      "0                        Toy Story  False          7.7     5415.0  \n",
      "1                          Jumanji  False          6.9     2413.0  \n",
      "2                 Grumpier Old Men  False          6.5       92.0  \n",
      "3                Waiting to Exhale  False          6.1       34.0  \n",
      "4      Father of the Bride Part II  False          5.7      173.0  \n",
      "...                            ...    ...          ...        ...  \n",
      "45461                       Subdue  False          4.0        1.0  \n",
      "45462          Century of Birthing  False          9.0        3.0  \n",
      "45463                     Betrayal  False          3.8        6.0  \n",
      "45464             Satan Triumphant  False          0.0        0.0  \n",
      "45465                     Queerama  False          0.0        0.0  \n",
      "\n",
      "[45454 rows x 23 columns]\n"
     ]
    }
   ],
   "source": [
    "#fix the jumbled columns from above cell\n",
    "kaggle_metadata = kaggle_metadata[kaggle_metadata['adult'] == 'False'].drop('adult',axis='columns')\n",
    "print(kaggle_metadata)"
   ]
  },
  {
   "cell_type": "code",
   "execution_count": 21,
   "id": "5ee74191",
   "metadata": {},
   "outputs": [
    {
     "data": {
      "text/plain": [
       "False    45358\n",
       "True        93\n",
       "Name: video, dtype: int64"
      ]
     },
     "execution_count": 21,
     "metadata": {},
     "output_type": "execute_result"
    }
   ],
   "source": [
    "#Parse the video column \n",
    "kaggle_metadata['video'].value_counts()"
   ]
  },
  {
   "cell_type": "code",
   "execution_count": 23,
   "id": "7a837b7c",
   "metadata": {},
   "outputs": [],
   "source": [
    "#boolean column with true values\n",
    "kaggle_metadata['video'] = kaggle_metadata['video'] == 'True'"
   ]
  },
  {
   "cell_type": "code",
   "execution_count": null,
   "id": "3e037217",
   "metadata": {},
   "outputs": [],
   "source": []
  }
 ],
 "metadata": {
  "kernelspec": {
   "display_name": "PythonData",
   "language": "python",
   "name": "pythondata"
  },
  "language_info": {
   "codemirror_mode": {
    "name": "ipython",
    "version": 3
   },
   "file_extension": ".py",
   "mimetype": "text/x-python",
   "name": "python",
   "nbconvert_exporter": "python",
   "pygments_lexer": "ipython3",
   "version": "3.7.10"
  }
 },
 "nbformat": 4,
 "nbformat_minor": 5
}
