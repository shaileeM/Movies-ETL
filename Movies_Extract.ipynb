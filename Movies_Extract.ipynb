{
 "cells": [
  {
   "cell_type": "code",
   "execution_count": 7,
   "id": "a2c938f5",
   "metadata": {},
   "outputs": [],
   "source": [
    "import pandas as pd\n",
    "import os\n",
    "import matplotlib\n",
    "import numpy as np\n",
    "import json\n",
    "import csv\n",
    "import re"
   ]
  },
  {
   "cell_type": "code",
   "execution_count": 8,
   "id": "ef570a61",
   "metadata": {},
   "outputs": [],
   "source": [
    "file_path=\"C:\\\\Users\\shail\\Movies-ETL\\wikipedia-movies.json\""
   ]
  },
  {
   "cell_type": "code",
   "execution_count": 9,
   "id": "16e1a694",
   "metadata": {},
   "outputs": [
    {
     "data": {
      "text/plain": [
       "7311"
      ]
     },
     "execution_count": 9,
     "metadata": {},
     "output_type": "execute_result"
    }
   ],
   "source": [
    "#Using with and load load the file as list of dictionaries\n",
    "with open(file_path,mode='r') as file:\n",
    "    wiki_movies_raw=json.load(file)\n",
    "#print(wiki_movies_raw[0]['Produced by'])\n",
    "len(wiki_movies_raw)"
   ]
  },
  {
   "cell_type": "code",
   "execution_count": 10,
   "id": "d11e1505",
   "metadata": {},
   "outputs": [
    {
     "ename": "NameError",
     "evalue": "name 'wiki_movies_df' is not defined",
     "output_type": "error",
     "traceback": [
      "\u001b[1;31m---------------------------------------------------------------------------\u001b[0m",
      "\u001b[1;31mNameError\u001b[0m                                 Traceback (most recent call last)",
      "\u001b[1;32m<ipython-input-10-b46daad3d637>\u001b[0m in \u001b[0;36m<module>\u001b[1;34m\u001b[0m\n\u001b[0;32m      2\u001b[0m \u001b[0mwiki_movies__raw_df\u001b[0m\u001b[1;33m=\u001b[0m\u001b[0mpd\u001b[0m\u001b[1;33m.\u001b[0m\u001b[0mDataFrame\u001b[0m\u001b[1;33m(\u001b[0m\u001b[0mwiki_movies_raw\u001b[0m\u001b[1;33m)\u001b[0m\u001b[1;33m\u001b[0m\u001b[1;33m\u001b[0m\u001b[0m\n\u001b[0;32m      3\u001b[0m \u001b[1;31m#wiki_movies_df.head()\u001b[0m\u001b[1;33m\u001b[0m\u001b[1;33m\u001b[0m\u001b[1;33m\u001b[0m\u001b[0m\n\u001b[1;32m----> 4\u001b[1;33m \u001b[0mwiki_movies_df\u001b[0m\u001b[1;33m.\u001b[0m\u001b[0mcolumns\u001b[0m\u001b[1;33m.\u001b[0m\u001b[0mtolist\u001b[0m\u001b[1;33m(\u001b[0m\u001b[1;33m)\u001b[0m\u001b[1;33m\u001b[0m\u001b[1;33m\u001b[0m\u001b[0m\n\u001b[0m",
      "\u001b[1;31mNameError\u001b[0m: name 'wiki_movies_df' is not defined"
     ]
    }
   ],
   "source": [
    "len(wiki_movies_raw)\n",
    "wiki_movies__raw_df=pd.DataFrame(wiki_movies_raw)\n",
    "#wiki_movies_df.head()\n",
    "wiki_movies_df.columns.tolist()"
   ]
  },
  {
   "cell_type": "code",
   "execution_count": 11,
   "id": "e625527b",
   "metadata": {},
   "outputs": [],
   "source": [
    "#loop through wiki_movies_raw and get only those movies who has a director and imdb link\n",
    "wiki_movies=[movie for movie in wiki_movies_raw\n",
    "              if ('Director' in movie or 'Directed by' in movie)\n",
    "              and 'imdb_link' in movie\n",
    "              and 'No. of episodes'not in movie\n",
    "            ]\n",
    "            \n",
    "\n",
    "wiki_movies_df=pd.DataFrame(wiki_movies)\n",
    "#wiki_movies_df.head(111)\n",
    "#print(wiki_movies[111])"
   ]
  },
  {
   "cell_type": "code",
   "execution_count": 12,
   "id": "b8656ae0",
   "metadata": {},
   "outputs": [
    {
     "data": {
      "text/plain": [
       "6834    https://en.wikipedia.org/wiki/The_Insult_(film)\n",
       "7058     https://en.wikipedia.org/wiki/Capernaum_(film)\n",
       "Name: url, dtype: object"
      ]
     },
     "execution_count": 12,
     "metadata": {},
     "output_type": "execute_result"
    }
   ],
   "source": [
    "\n",
    "wiki_movies_df[wiki_movies_df['Arabic'].notnull()]['url']"
   ]
  },
  {
   "cell_type": "code",
   "execution_count": null,
   "id": "04eb5bad",
   "metadata": {},
   "outputs": [],
   "source": []
  },
  {
   "cell_type": "code",
   "execution_count": 13,
   "id": "8490852e",
   "metadata": {},
   "outputs": [],
   "source": [
    "def clean_movie(movie):\n",
    "    movie = dict(movie)\n",
    "    #List of alternative titles(languages)\n",
    "    alternative_titles={}\n",
    "    for key in ['Also known as','Arabic','Cantonese','Chinese','French',\n",
    "                'Hangul','Hebrew','Hepburn','Japanese','Literally',\n",
    "                'Mandarin','McCune–Reischauer','Original title','Polish',\n",
    "                'Revised Romanization','Romanized','Russian',\n",
    "                'Simplified','Traditional','Yiddish']:\n",
    "        if key in movie:\n",
    "            alternative_titles[key]=movie[key]\n",
    "            movie.pop(key)\n",
    "    #print(movie['url'])\n",
    "    #print(alternative_titles)\n",
    "    if len(alternative_titles) >0:\n",
    "        movie['alt_titles']= alternative_titles\n",
    "        \n",
    "    # merge column names\n",
    "    def change_column_name(old_name, new_name):\n",
    "        if old_name in movie:\n",
    "            movie[new_name] = movie.pop(old_name)\n",
    "            #print(movie['url'])\n",
    "            #print(\"............\")\n",
    "            #print(f\"{new_name},{movie[new_name]}\")\n",
    "            \n",
    "    change_column_name('Adaptation by', 'Writer(s)')\n",
    "    change_column_name('Country of origin', 'Country')\n",
    "    change_column_name('Directed by', 'Director')\n",
    "    change_column_name('Distributed by', 'Distributor')\n",
    "    change_column_name('Edited by', 'Editor(s)')\n",
    "    change_column_name('Length', 'Running time')\n",
    "    change_column_name('Original release', 'Release date')\n",
    "    change_column_name('Music by', 'Composer(s)')\n",
    "    change_column_name('Produced by', 'Producer(s)')\n",
    "    change_column_name('Producer', 'Producer(s)')\n",
    "    change_column_name('Productioncompanies ', 'Production company(s)')\n",
    "    change_column_name('Productioncompany ', 'Production company(s)')\n",
    "    change_column_name('Released', 'Release Date')\n",
    "    change_column_name('Release Date', 'Release date')\n",
    "    change_column_name('Screen story by', 'Writer(s)')\n",
    "    change_column_name('Screenplay by', 'Writer(s)')\n",
    "    change_column_name('Story by', 'Writer(s)')\n",
    "    change_column_name('Theme music composer', 'Composer(s)')\n",
    "    change_column_name('Written by', 'Writer(s)')\n",
    "    \n",
    "    \n",
    "    \n",
    "    \n",
    "    return movie\n",
    "    "
   ]
  },
  {
   "cell_type": "code",
   "execution_count": null,
   "id": "2e94c160",
   "metadata": {},
   "outputs": [],
   "source": []
  },
  {
   "cell_type": "code",
   "execution_count": 14,
   "id": "1f72c956",
   "metadata": {},
   "outputs": [],
   "source": [
    "clean_movies=[clean_movie(movie) for movie in wiki_movies]\n",
    "#print(clean_movies[0])"
   ]
  },
  {
   "cell_type": "code",
   "execution_count": 15,
   "id": "f7f79b57",
   "metadata": {},
   "outputs": [
    {
     "data": {
      "text/plain": [
       "['Animation by',\n",
       " 'Audio format',\n",
       " 'Based on',\n",
       " 'Box office',\n",
       " 'Budget',\n",
       " 'Cinematography',\n",
       " 'Color process',\n",
       " 'Composer(s)',\n",
       " 'Country',\n",
       " 'Created by',\n",
       " 'Director',\n",
       " 'Distributor',\n",
       " 'Editor(s)',\n",
       " 'Executive producer(s)',\n",
       " 'Followed by',\n",
       " 'Genre',\n",
       " 'Label',\n",
       " 'Language',\n",
       " 'Narrated by',\n",
       " 'Original language(s)',\n",
       " 'Original network',\n",
       " 'Picture format',\n",
       " 'Preceded by',\n",
       " 'Producer(s)',\n",
       " 'Production company(s)',\n",
       " 'Production location(s)',\n",
       " 'Recorded',\n",
       " 'Release date',\n",
       " 'Running time',\n",
       " 'Starring',\n",
       " 'Suggested by',\n",
       " 'Venue',\n",
       " 'Voices of',\n",
       " 'Writer(s)',\n",
       " 'alt_titles',\n",
       " 'imdb_link',\n",
       " 'title',\n",
       " 'url',\n",
       " 'year']"
      ]
     },
     "execution_count": 15,
     "metadata": {},
     "output_type": "execute_result"
    }
   ],
   "source": [
    "wiki_movies_df = pd.DataFrame(clean_movies)\n",
    "sorted(wiki_movies_df.columns.tolist())\n"
   ]
  },
  {
   "cell_type": "code",
   "execution_count": 16,
   "id": "219bba6a",
   "metadata": {},
   "outputs": [
    {
     "name": "stdout",
     "output_type": "stream",
     "text": [
      "7076\n",
      "7033\n"
     ]
    }
   ],
   "source": [
    "#Columns are cleaned up..now clean up the rows\n",
    "#Extract imdb id from movie url\n",
    "wiki_movies_df['imdb_id']=wiki_movies_df['imdb_link'].str.extract(r'(tt\\d{7})')\n",
    "print(len(wiki_movies_df))\n",
    "wiki_movies_df.drop_duplicates(subset='imdb_id',inplace=True)\n",
    "print(len(wiki_movies_df))"
   ]
  },
  {
   "cell_type": "code",
   "execution_count": 17,
   "id": "56d8fd5b",
   "metadata": {},
   "outputs": [
    {
     "data": {
      "text/plain": [
       "Index(['url', 'year', 'imdb_link', 'title', 'Based on', 'Starring',\n",
       "       'Narrated by', 'Cinematography', 'Release date', 'Running time',\n",
       "       'Country', 'Language', 'Budget', 'Box office', 'Director',\n",
       "       'Distributor', 'Editor(s)', 'Composer(s)', 'Producer(s)',\n",
       "       'Production company(s)', 'Writer(s)', 'Genre', 'Original language(s)',\n",
       "       'Original network', 'Executive producer(s)', 'Production location(s)',\n",
       "       'Picture format', 'Audio format', 'Voices of', 'Followed by',\n",
       "       'Created by', 'Preceded by', 'Suggested by', 'alt_titles', 'Recorded',\n",
       "       'Venue', 'Label', 'Animation by', 'Color process', 'imdb_id'],\n",
       "      dtype='object')"
      ]
     },
     "execution_count": 17,
     "metadata": {},
     "output_type": "execute_result"
    }
   ],
   "source": [
    "wiki_movies_df.columns"
   ]
  },
  {
   "cell_type": "code",
   "execution_count": 18,
   "id": "ec5ba5de",
   "metadata": {
    "scrolled": true
   },
   "outputs": [
    {
     "data": {
      "text/html": [
       "<div>\n",
       "<style scoped>\n",
       "    .dataframe tbody tr th:only-of-type {\n",
       "        vertical-align: middle;\n",
       "    }\n",
       "\n",
       "    .dataframe tbody tr th {\n",
       "        vertical-align: top;\n",
       "    }\n",
       "\n",
       "    .dataframe thead th {\n",
       "        text-align: right;\n",
       "    }\n",
       "</style>\n",
       "<table border=\"1\" class=\"dataframe\">\n",
       "  <thead>\n",
       "    <tr style=\"text-align: right;\">\n",
       "      <th></th>\n",
       "      <th>url</th>\n",
       "      <th>year</th>\n",
       "      <th>imdb_link</th>\n",
       "      <th>title</th>\n",
       "      <th>Based on</th>\n",
       "      <th>Starring</th>\n",
       "      <th>Cinematography</th>\n",
       "      <th>Release date</th>\n",
       "      <th>Running time</th>\n",
       "      <th>Country</th>\n",
       "      <th>...</th>\n",
       "      <th>Budget</th>\n",
       "      <th>Box office</th>\n",
       "      <th>Director</th>\n",
       "      <th>Distributor</th>\n",
       "      <th>Editor(s)</th>\n",
       "      <th>Composer(s)</th>\n",
       "      <th>Producer(s)</th>\n",
       "      <th>Production company(s)</th>\n",
       "      <th>Writer(s)</th>\n",
       "      <th>imdb_id</th>\n",
       "    </tr>\n",
       "  </thead>\n",
       "  <tbody>\n",
       "    <tr>\n",
       "      <th>0</th>\n",
       "      <td>https://en.wikipedia.org/wiki/The_Adventures_o...</td>\n",
       "      <td>1990</td>\n",
       "      <td>https://www.imdb.com/title/tt0098987/</td>\n",
       "      <td>The Adventures of Ford Fairlane</td>\n",
       "      <td>[Characters, by Rex Weiner]</td>\n",
       "      <td>[Andrew Dice Clay, Wayne Newton, Priscilla Pre...</td>\n",
       "      <td>Oliver Wood</td>\n",
       "      <td>[July 11, 1990, (, 1990-07-11, )]</td>\n",
       "      <td>102 minutes</td>\n",
       "      <td>United States</td>\n",
       "      <td>...</td>\n",
       "      <td>$20 million</td>\n",
       "      <td>$21.4 million</td>\n",
       "      <td>Renny Harlin</td>\n",
       "      <td>20th Century Fox</td>\n",
       "      <td>Michael Tronick</td>\n",
       "      <td>[Cliff Eidelman, Yello]</td>\n",
       "      <td>[Steve Perry, Joel Silver]</td>\n",
       "      <td>Silver Pictures</td>\n",
       "      <td>[David Arnott, James Cappe]</td>\n",
       "      <td>tt0098987</td>\n",
       "    </tr>\n",
       "    <tr>\n",
       "      <th>1</th>\n",
       "      <td>https://en.wikipedia.org/wiki/After_Dark,_My_S...</td>\n",
       "      <td>1990</td>\n",
       "      <td>https://www.imdb.com/title/tt0098994/</td>\n",
       "      <td>After Dark, My Sweet</td>\n",
       "      <td>[the novel, After Dark, My Sweet, by, Jim Thom...</td>\n",
       "      <td>[Jason Patric, Rachel Ward, Bruce Dern, George...</td>\n",
       "      <td>Mark Plummer</td>\n",
       "      <td>[May 17, 1990, (, 1990-05-17, ), (Cannes Film ...</td>\n",
       "      <td>114 minutes</td>\n",
       "      <td>United States</td>\n",
       "      <td>...</td>\n",
       "      <td>$6 million</td>\n",
       "      <td>$2.7 million</td>\n",
       "      <td>James Foley</td>\n",
       "      <td>Avenue Pictures</td>\n",
       "      <td>Howard E. Smith</td>\n",
       "      <td>Maurice Jarre</td>\n",
       "      <td>[Ric Kidney, Robert Redlin]</td>\n",
       "      <td>Avenue Pictures</td>\n",
       "      <td>[James Foley, Robert Redlin]</td>\n",
       "      <td>tt0098994</td>\n",
       "    </tr>\n",
       "    <tr>\n",
       "      <th>2</th>\n",
       "      <td>https://en.wikipedia.org/wiki/Air_America_(film)</td>\n",
       "      <td>1990</td>\n",
       "      <td>https://www.imdb.com/title/tt0099005/</td>\n",
       "      <td>Air America</td>\n",
       "      <td>[Air America, by, Christopher Robbins]</td>\n",
       "      <td>[Mel Gibson, Robert Downey Jr., Nancy Travis, ...</td>\n",
       "      <td>Roger Deakins</td>\n",
       "      <td>[August 10, 1990, (, 1990-08-10, )]</td>\n",
       "      <td>113 minutes</td>\n",
       "      <td>United States</td>\n",
       "      <td>...</td>\n",
       "      <td>$35 million</td>\n",
       "      <td>$57,718,089</td>\n",
       "      <td>Roger Spottiswoode</td>\n",
       "      <td>TriStar Pictures</td>\n",
       "      <td>[John Bloom, Lois Freeman-Fox]</td>\n",
       "      <td>Charles Gross</td>\n",
       "      <td>Daniel Melnick</td>\n",
       "      <td>[Carolco Pictures, IndieProd Company]</td>\n",
       "      <td>[John Eskow, Richard Rush]</td>\n",
       "      <td>tt0099005</td>\n",
       "    </tr>\n",
       "    <tr>\n",
       "      <th>3</th>\n",
       "      <td>https://en.wikipedia.org/wiki/Alice_(1990_film)</td>\n",
       "      <td>1990</td>\n",
       "      <td>https://www.imdb.com/title/tt0099012/</td>\n",
       "      <td>Alice</td>\n",
       "      <td>NaN</td>\n",
       "      <td>[Alec Baldwin, Blythe Danner, Judy Davis, Mia ...</td>\n",
       "      <td>Carlo Di Palma</td>\n",
       "      <td>[December 25, 1990, (, 1990-12-25, )]</td>\n",
       "      <td>106 minutes</td>\n",
       "      <td>United States</td>\n",
       "      <td>...</td>\n",
       "      <td>$12 million</td>\n",
       "      <td>$7,331,647</td>\n",
       "      <td>Woody Allen</td>\n",
       "      <td>Orion Pictures</td>\n",
       "      <td>Susan E. Morse</td>\n",
       "      <td>NaN</td>\n",
       "      <td>Robert Greenhut</td>\n",
       "      <td>NaN</td>\n",
       "      <td>Woody Allen</td>\n",
       "      <td>tt0099012</td>\n",
       "    </tr>\n",
       "    <tr>\n",
       "      <th>4</th>\n",
       "      <td>https://en.wikipedia.org/wiki/Almost_an_Angel</td>\n",
       "      <td>1990</td>\n",
       "      <td>https://www.imdb.com/title/tt0099018/</td>\n",
       "      <td>Almost an Angel</td>\n",
       "      <td>NaN</td>\n",
       "      <td>[Paul Hogan, Elias Koteas, Linda Kozlowski]</td>\n",
       "      <td>Russell Boyd</td>\n",
       "      <td>December 19, 1990</td>\n",
       "      <td>95 minutes</td>\n",
       "      <td>US</td>\n",
       "      <td>...</td>\n",
       "      <td>$25 million</td>\n",
       "      <td>$6,939,946 (USA)</td>\n",
       "      <td>John Cornell</td>\n",
       "      <td>Paramount Pictures</td>\n",
       "      <td>David Stiven</td>\n",
       "      <td>Maurice Jarre</td>\n",
       "      <td>John Cornell</td>\n",
       "      <td>NaN</td>\n",
       "      <td>Paul Hogan</td>\n",
       "      <td>tt0099018</td>\n",
       "    </tr>\n",
       "    <tr>\n",
       "      <th>...</th>\n",
       "      <td>...</td>\n",
       "      <td>...</td>\n",
       "      <td>...</td>\n",
       "      <td>...</td>\n",
       "      <td>...</td>\n",
       "      <td>...</td>\n",
       "      <td>...</td>\n",
       "      <td>...</td>\n",
       "      <td>...</td>\n",
       "      <td>...</td>\n",
       "      <td>...</td>\n",
       "      <td>...</td>\n",
       "      <td>...</td>\n",
       "      <td>...</td>\n",
       "      <td>...</td>\n",
       "      <td>...</td>\n",
       "      <td>...</td>\n",
       "      <td>...</td>\n",
       "      <td>...</td>\n",
       "      <td>...</td>\n",
       "      <td>...</td>\n",
       "    </tr>\n",
       "    <tr>\n",
       "      <th>7071</th>\n",
       "      <td>https://en.wikipedia.org/wiki/Holmes_%26_Watson</td>\n",
       "      <td>2018</td>\n",
       "      <td>https://www.imdb.com/title/tt1255919/</td>\n",
       "      <td>Holmes &amp; Watson</td>\n",
       "      <td>[Sherlock Holmes, and, Dr. Watson, by, Sir Art...</td>\n",
       "      <td>[Will Ferrell, John C. Reilly, Rebecca Hall, R...</td>\n",
       "      <td>Oliver Wood</td>\n",
       "      <td>[December 25, 2018, (, 2018-12-25, ), (United ...</td>\n",
       "      <td>90 minutes</td>\n",
       "      <td>United States</td>\n",
       "      <td>...</td>\n",
       "      <td>$42 million</td>\n",
       "      <td>$41.9 million</td>\n",
       "      <td>Etan Cohen</td>\n",
       "      <td>Sony Pictures Releasing</td>\n",
       "      <td>Dean Zimmerman</td>\n",
       "      <td>Mark Mothersbaugh</td>\n",
       "      <td>[Will Ferrell, Adam McKay, Jimmy Miller, Clayt...</td>\n",
       "      <td>[Columbia Pictures, Gary Sanchez Productions, ...</td>\n",
       "      <td>Etan Cohen</td>\n",
       "      <td>tt1255919</td>\n",
       "    </tr>\n",
       "    <tr>\n",
       "      <th>7072</th>\n",
       "      <td>https://en.wikipedia.org/wiki/Vice_(2018_film)</td>\n",
       "      <td>2018</td>\n",
       "      <td>https://www.imdb.com/title/tt6266538/</td>\n",
       "      <td>Vice</td>\n",
       "      <td>NaN</td>\n",
       "      <td>[Christian Bale, Amy Adams, Steve Carell, Sam ...</td>\n",
       "      <td>Greig Fraser</td>\n",
       "      <td>[December 11, 2018, (, 2018-12-11, ), (, Samue...</td>\n",
       "      <td>132 minutes</td>\n",
       "      <td>United States</td>\n",
       "      <td>...</td>\n",
       "      <td>$60 million</td>\n",
       "      <td>$76.1 million</td>\n",
       "      <td>Adam McKay</td>\n",
       "      <td>Mirror Releasing</td>\n",
       "      <td>Hank Corwin</td>\n",
       "      <td>Nicholas Britell</td>\n",
       "      <td>[Brad Pitt, Dede Gardner, Jeremy Kleiner, Kevi...</td>\n",
       "      <td>[Plan B Entertainment, Gary Sanchez Production...</td>\n",
       "      <td>Adam McKay</td>\n",
       "      <td>tt6266538</td>\n",
       "    </tr>\n",
       "    <tr>\n",
       "      <th>7073</th>\n",
       "      <td>https://en.wikipedia.org/wiki/On_the_Basis_of_Sex</td>\n",
       "      <td>2018</td>\n",
       "      <td>https://www.imdb.com/title/tt4669788/</td>\n",
       "      <td>On the Basis of Sex</td>\n",
       "      <td>NaN</td>\n",
       "      <td>[Felicity Jones, Armie Hammer, Justin Theroux,...</td>\n",
       "      <td>Michael Grady</td>\n",
       "      <td>[November 8, 2018, (, 2018-11-08, ), (, AFI Fe...</td>\n",
       "      <td>120 minutes</td>\n",
       "      <td>United States</td>\n",
       "      <td>...</td>\n",
       "      <td>$20 million</td>\n",
       "      <td>$38.4 million</td>\n",
       "      <td>Mimi Leder</td>\n",
       "      <td>Focus Features</td>\n",
       "      <td>Michelle Tesoro</td>\n",
       "      <td>Mychael Danna</td>\n",
       "      <td>Robert W. Cort</td>\n",
       "      <td>[Focus Features, [1], Participant Media, [1], ...</td>\n",
       "      <td>Daniel Stiepleman</td>\n",
       "      <td>tt4669788</td>\n",
       "    </tr>\n",
       "    <tr>\n",
       "      <th>7074</th>\n",
       "      <td>https://en.wikipedia.org/wiki/Destroyer_(2018_...</td>\n",
       "      <td>2018</td>\n",
       "      <td>https://www.imdb.com/title/tt7137380/</td>\n",
       "      <td>Destroyer</td>\n",
       "      <td>NaN</td>\n",
       "      <td>[Nicole Kidman, Sebastian Stan, Toby Kebbell, ...</td>\n",
       "      <td>Julie Kirkwood</td>\n",
       "      <td>[August 31, 2018, (, 2018-08-31, ), (, Telluri...</td>\n",
       "      <td>123 minutes</td>\n",
       "      <td>United States</td>\n",
       "      <td>...</td>\n",
       "      <td>$9 million</td>\n",
       "      <td>$5.5 million</td>\n",
       "      <td>Karyn Kusama</td>\n",
       "      <td>Mirror Releasing</td>\n",
       "      <td>Plummy Tucker</td>\n",
       "      <td>Theodore Shapiro</td>\n",
       "      <td>[Fred Berger, Phil Hay, Matt Manfredi]</td>\n",
       "      <td>[30West, Automatik Entertainment, Annapurna Pi...</td>\n",
       "      <td>[Phil Hay, Matt Manfredi]</td>\n",
       "      <td>tt7137380</td>\n",
       "    </tr>\n",
       "    <tr>\n",
       "      <th>7075</th>\n",
       "      <td>https://en.wikipedia.org/wiki/Black_Mirror:_Ba...</td>\n",
       "      <td>2018</td>\n",
       "      <td>https://www.imdb.com/title/tt9495224/</td>\n",
       "      <td>Bandersnatch</td>\n",
       "      <td>NaN</td>\n",
       "      <td>[Fionn Whitehead, Will Poulter, Craig Parkinso...</td>\n",
       "      <td>[Aaron Morton, Jake Polonsky]</td>\n",
       "      <td>[28 December 2018, (, 2018-12-28, )]</td>\n",
       "      <td>Variable; 90 minutes for default path</td>\n",
       "      <td>United Kingdom</td>\n",
       "      <td>...</td>\n",
       "      <td>NaN</td>\n",
       "      <td>NaN</td>\n",
       "      <td>David Slade</td>\n",
       "      <td>Netflix</td>\n",
       "      <td>Tony Kearns</td>\n",
       "      <td>Brian Reitzell</td>\n",
       "      <td>Russell McLean</td>\n",
       "      <td>[House of Tomorrow, Netflix]</td>\n",
       "      <td>Charlie Brooker</td>\n",
       "      <td>tt9495224</td>\n",
       "    </tr>\n",
       "  </tbody>\n",
       "</table>\n",
       "<p>7033 rows × 21 columns</p>\n",
       "</div>"
      ],
      "text/plain": [
       "                                                    url  year  \\\n",
       "0     https://en.wikipedia.org/wiki/The_Adventures_o...  1990   \n",
       "1     https://en.wikipedia.org/wiki/After_Dark,_My_S...  1990   \n",
       "2      https://en.wikipedia.org/wiki/Air_America_(film)  1990   \n",
       "3       https://en.wikipedia.org/wiki/Alice_(1990_film)  1990   \n",
       "4         https://en.wikipedia.org/wiki/Almost_an_Angel  1990   \n",
       "...                                                 ...   ...   \n",
       "7071    https://en.wikipedia.org/wiki/Holmes_%26_Watson  2018   \n",
       "7072     https://en.wikipedia.org/wiki/Vice_(2018_film)  2018   \n",
       "7073  https://en.wikipedia.org/wiki/On_the_Basis_of_Sex  2018   \n",
       "7074  https://en.wikipedia.org/wiki/Destroyer_(2018_...  2018   \n",
       "7075  https://en.wikipedia.org/wiki/Black_Mirror:_Ba...  2018   \n",
       "\n",
       "                                  imdb_link                            title  \\\n",
       "0     https://www.imdb.com/title/tt0098987/  The Adventures of Ford Fairlane   \n",
       "1     https://www.imdb.com/title/tt0098994/             After Dark, My Sweet   \n",
       "2     https://www.imdb.com/title/tt0099005/                      Air America   \n",
       "3     https://www.imdb.com/title/tt0099012/                            Alice   \n",
       "4     https://www.imdb.com/title/tt0099018/                  Almost an Angel   \n",
       "...                                     ...                              ...   \n",
       "7071  https://www.imdb.com/title/tt1255919/                  Holmes & Watson   \n",
       "7072  https://www.imdb.com/title/tt6266538/                             Vice   \n",
       "7073  https://www.imdb.com/title/tt4669788/              On the Basis of Sex   \n",
       "7074  https://www.imdb.com/title/tt7137380/                        Destroyer   \n",
       "7075  https://www.imdb.com/title/tt9495224/                     Bandersnatch   \n",
       "\n",
       "                                               Based on  \\\n",
       "0                           [Characters, by Rex Weiner]   \n",
       "1     [the novel, After Dark, My Sweet, by, Jim Thom...   \n",
       "2                [Air America, by, Christopher Robbins]   \n",
       "3                                                   NaN   \n",
       "4                                                   NaN   \n",
       "...                                                 ...   \n",
       "7071  [Sherlock Holmes, and, Dr. Watson, by, Sir Art...   \n",
       "7072                                                NaN   \n",
       "7073                                                NaN   \n",
       "7074                                                NaN   \n",
       "7075                                                NaN   \n",
       "\n",
       "                                               Starring  \\\n",
       "0     [Andrew Dice Clay, Wayne Newton, Priscilla Pre...   \n",
       "1     [Jason Patric, Rachel Ward, Bruce Dern, George...   \n",
       "2     [Mel Gibson, Robert Downey Jr., Nancy Travis, ...   \n",
       "3     [Alec Baldwin, Blythe Danner, Judy Davis, Mia ...   \n",
       "4           [Paul Hogan, Elias Koteas, Linda Kozlowski]   \n",
       "...                                                 ...   \n",
       "7071  [Will Ferrell, John C. Reilly, Rebecca Hall, R...   \n",
       "7072  [Christian Bale, Amy Adams, Steve Carell, Sam ...   \n",
       "7073  [Felicity Jones, Armie Hammer, Justin Theroux,...   \n",
       "7074  [Nicole Kidman, Sebastian Stan, Toby Kebbell, ...   \n",
       "7075  [Fionn Whitehead, Will Poulter, Craig Parkinso...   \n",
       "\n",
       "                     Cinematography  \\\n",
       "0                       Oliver Wood   \n",
       "1                      Mark Plummer   \n",
       "2                     Roger Deakins   \n",
       "3                    Carlo Di Palma   \n",
       "4                      Russell Boyd   \n",
       "...                             ...   \n",
       "7071                    Oliver Wood   \n",
       "7072                   Greig Fraser   \n",
       "7073                  Michael Grady   \n",
       "7074                 Julie Kirkwood   \n",
       "7075  [Aaron Morton, Jake Polonsky]   \n",
       "\n",
       "                                           Release date  \\\n",
       "0                     [July 11, 1990, (, 1990-07-11, )]   \n",
       "1     [May 17, 1990, (, 1990-05-17, ), (Cannes Film ...   \n",
       "2                   [August 10, 1990, (, 1990-08-10, )]   \n",
       "3                 [December 25, 1990, (, 1990-12-25, )]   \n",
       "4                                     December 19, 1990   \n",
       "...                                                 ...   \n",
       "7071  [December 25, 2018, (, 2018-12-25, ), (United ...   \n",
       "7072  [December 11, 2018, (, 2018-12-11, ), (, Samue...   \n",
       "7073  [November 8, 2018, (, 2018-11-08, ), (, AFI Fe...   \n",
       "7074  [August 31, 2018, (, 2018-08-31, ), (, Telluri...   \n",
       "7075               [28 December 2018, (, 2018-12-28, )]   \n",
       "\n",
       "                               Running time         Country  ...       Budget  \\\n",
       "0                               102 minutes   United States  ...  $20 million   \n",
       "1                               114 minutes   United States  ...   $6 million   \n",
       "2                               113 minutes   United States  ...  $35 million   \n",
       "3                               106 minutes   United States  ...  $12 million   \n",
       "4                                95 minutes              US  ...  $25 million   \n",
       "...                                     ...             ...  ...          ...   \n",
       "7071                             90 minutes   United States  ...  $42 million   \n",
       "7072                            132 minutes   United States  ...  $60 million   \n",
       "7073                            120 minutes   United States  ...  $20 million   \n",
       "7074                            123 minutes   United States  ...   $9 million   \n",
       "7075  Variable; 90 minutes for default path  United Kingdom  ...          NaN   \n",
       "\n",
       "            Box office            Director              Distributor  \\\n",
       "0        $21.4 million        Renny Harlin         20th Century Fox   \n",
       "1         $2.7 million         James Foley          Avenue Pictures   \n",
       "2          $57,718,089  Roger Spottiswoode         TriStar Pictures   \n",
       "3           $7,331,647         Woody Allen           Orion Pictures   \n",
       "4     $6,939,946 (USA)        John Cornell       Paramount Pictures   \n",
       "...                ...                 ...                      ...   \n",
       "7071     $41.9 million          Etan Cohen  Sony Pictures Releasing   \n",
       "7072     $76.1 million          Adam McKay         Mirror Releasing   \n",
       "7073     $38.4 million          Mimi Leder           Focus Features   \n",
       "7074      $5.5 million        Karyn Kusama         Mirror Releasing   \n",
       "7075               NaN         David Slade                  Netflix   \n",
       "\n",
       "                           Editor(s)              Composer(s)  \\\n",
       "0                    Michael Tronick  [Cliff Eidelman, Yello]   \n",
       "1                    Howard E. Smith            Maurice Jarre   \n",
       "2     [John Bloom, Lois Freeman-Fox]            Charles Gross   \n",
       "3                     Susan E. Morse                      NaN   \n",
       "4                       David Stiven            Maurice Jarre   \n",
       "...                              ...                      ...   \n",
       "7071                  Dean Zimmerman        Mark Mothersbaugh   \n",
       "7072                     Hank Corwin         Nicholas Britell   \n",
       "7073                 Michelle Tesoro            Mychael Danna   \n",
       "7074                   Plummy Tucker         Theodore Shapiro   \n",
       "7075                     Tony Kearns           Brian Reitzell   \n",
       "\n",
       "                                            Producer(s)  \\\n",
       "0                            [Steve Perry, Joel Silver]   \n",
       "1                           [Ric Kidney, Robert Redlin]   \n",
       "2                                        Daniel Melnick   \n",
       "3                                       Robert Greenhut   \n",
       "4                                          John Cornell   \n",
       "...                                                 ...   \n",
       "7071  [Will Ferrell, Adam McKay, Jimmy Miller, Clayt...   \n",
       "7072  [Brad Pitt, Dede Gardner, Jeremy Kleiner, Kevi...   \n",
       "7073                                     Robert W. Cort   \n",
       "7074             [Fred Berger, Phil Hay, Matt Manfredi]   \n",
       "7075                                     Russell McLean   \n",
       "\n",
       "                                  Production company(s)  \\\n",
       "0                                       Silver Pictures   \n",
       "1                                       Avenue Pictures   \n",
       "2                 [Carolco Pictures, IndieProd Company]   \n",
       "3                                                   NaN   \n",
       "4                                                   NaN   \n",
       "...                                                 ...   \n",
       "7071  [Columbia Pictures, Gary Sanchez Productions, ...   \n",
       "7072  [Plan B Entertainment, Gary Sanchez Production...   \n",
       "7073  [Focus Features, [1], Participant Media, [1], ...   \n",
       "7074  [30West, Automatik Entertainment, Annapurna Pi...   \n",
       "7075                       [House of Tomorrow, Netflix]   \n",
       "\n",
       "                         Writer(s)    imdb_id  \n",
       "0      [David Arnott, James Cappe]  tt0098987  \n",
       "1     [James Foley, Robert Redlin]  tt0098994  \n",
       "2       [John Eskow, Richard Rush]  tt0099005  \n",
       "3                      Woody Allen  tt0099012  \n",
       "4                       Paul Hogan  tt0099018  \n",
       "...                            ...        ...  \n",
       "7071                    Etan Cohen  tt1255919  \n",
       "7072                    Adam McKay  tt6266538  \n",
       "7073             Daniel Stiepleman  tt4669788  \n",
       "7074     [Phil Hay, Matt Manfredi]  tt7137380  \n",
       "7075               Charlie Brooker  tt9495224  \n",
       "\n",
       "[7033 rows x 21 columns]"
      ]
     },
     "execution_count": 18,
     "metadata": {},
     "output_type": "execute_result"
    }
   ],
   "source": [
    "#Drop all the null values from all the columns\n",
    "wiki_columns_to_keep = [column for column in wiki_movies_df.columns if wiki_movies_df[column].isnull().sum() < len(wiki_movies_df) * 0.9]\n",
    "wiki_movies_df = wiki_movies_df[wiki_columns_to_keep]\n",
    "wiki_movies_df"
   ]
  },
  {
   "cell_type": "code",
   "execution_count": 19,
   "id": "fc793cd0",
   "metadata": {},
   "outputs": [
    {
     "data": {
      "text/plain": [
       "7033"
      ]
     },
     "execution_count": 19,
     "metadata": {},
     "output_type": "execute_result"
    }
   ],
   "source": [
    "len(wiki_movies_df)"
   ]
  },
  {
   "cell_type": "code",
   "execution_count": 20,
   "id": "a57cbcbf",
   "metadata": {},
   "outputs": [
    {
     "name": "stdout",
     "output_type": "stream",
     "text": [
      "url : 0\n",
      "year : 0\n",
      "imdb_link : 0\n",
      "title : 1\n",
      "Based on : 4852\n",
      "Starring : 184\n",
      "Cinematography : 691\n",
      "Release date : 32\n",
      "Running time : 139\n",
      "Country : 236\n",
      "Language : 244\n",
      "Budget : 2295\n",
      "Box office : 1548\n",
      "Director : 0\n",
      "Distributor : 357\n",
      "Editor(s) : 548\n",
      "Composer(s) : 518\n",
      "Producer(s) : 202\n",
      "Production company(s) : 1678\n",
      "Writer(s) : 199\n",
      "imdb_id : 0\n"
     ]
    }
   ],
   "source": [
    "#Alternative for loop\n",
    "for column in wiki_movies_df.columns:\n",
    "    col=wiki_movies_df[column].isnull().sum()\n",
    "    print(f\"{column} : {col}\")"
   ]
  },
  {
   "cell_type": "code",
   "execution_count": 21,
   "id": "139f2dce",
   "metadata": {},
   "outputs": [
    {
     "data": {
      "text/plain": [
       "url                      object\n",
       "year                      int64\n",
       "imdb_link                object\n",
       "title                    object\n",
       "Based on                 object\n",
       "Starring                 object\n",
       "Cinematography           object\n",
       "Release date             object\n",
       "Running time             object\n",
       "Country                  object\n",
       "Language                 object\n",
       "Budget                   object\n",
       "Box office               object\n",
       "Director                 object\n",
       "Distributor              object\n",
       "Editor(s)                object\n",
       "Composer(s)              object\n",
       "Producer(s)              object\n",
       "Production company(s)    object\n",
       "Writer(s)                object\n",
       "imdb_id                  object\n",
       "dtype: object"
      ]
     },
     "execution_count": 21,
     "metadata": {},
     "output_type": "execute_result"
    }
   ],
   "source": [
    "wiki_movies_df.dtypes"
   ]
  },
  {
   "cell_type": "code",
   "execution_count": 22,
   "id": "c5530e3b",
   "metadata": {},
   "outputs": [
    {
     "name": "stdout",
     "output_type": "stream",
     "text": [
      "7033\n"
     ]
    },
    {
     "data": {
      "text/plain": [
       "0                             $21.4 million\n",
       "1                              $2.7 million\n",
       "2                               $57,718,089\n",
       "3                                $7,331,647\n",
       "4                          $6,939,946 (USA)\n",
       "5                                       NaN\n",
       "6                                       NaN\n",
       "7                                       NaN\n",
       "8                                       NaN\n",
       "9                                  $855,810\n",
       "10                           $195.3 million\n",
       "11                            $53.2 million\n",
       "12                            $15.7 million\n",
       "13                            $52.1 million\n",
       "14                           $244.5 million\n",
       "15                              $12,626,043\n",
       "16                                      NaN\n",
       "17                              $19,740,070\n",
       "18                             $138,697,012\n",
       "19                                      NaN\n",
       "20                               $1,292,323\n",
       "21                             $8.2 million\n",
       "22                            $15.6 million\n",
       "23                                      NaN\n",
       "24                               $2,070,871\n",
       "25            $27.6 million (United States)\n",
       "26                                      NaN\n",
       "27                                  $10,173\n",
       "28                                      NaN\n",
       "29                               $5 million\n",
       "30                                      NaN\n",
       "31                                      NaN\n",
       "32                                      NaN\n",
       "33                            $35.8 million\n",
       "34                         [US$, 4,212,828]\n",
       "35                                      NaN\n",
       "36                                      NaN\n",
       "37                             $2.4 million\n",
       "38                                      NaN\n",
       "39                                 $947,306\n",
       "40                                 $715,983\n",
       "41                                      NaN\n",
       "42                            US$13,236,513\n",
       "43                             $8.3 million\n",
       "44                               $1,373,728\n",
       "45                           $424.2 million\n",
       "46                                      NaN\n",
       "47                            $48.8 million\n",
       "48                                      NaN\n",
       "49                           $157.9 million\n",
       "50                                      NaN\n",
       "51                                      NaN\n",
       "52                                      NaN\n",
       "53                             $2.2 million\n",
       "54    [$6,698,361 (, United States, ), [2]]\n",
       "55                                      NaN\n",
       "56                        $2.7 million (US)\n",
       "57                           $162.7 million\n",
       "58                             $240 million\n",
       "59                                      NaN\n",
       "Name: Box office, dtype: object"
      ]
     },
     "execution_count": 22,
     "metadata": {},
     "output_type": "execute_result"
    }
   ],
   "source": [
    "print(len(wiki_movies_df['Box office']))\n",
    "box_office = wiki_movies_df['Box office'].dropna()\n",
    "len(box_office)\n",
    "wiki_movies_df['Box office'].head(60)"
   ]
  },
  {
   "cell_type": "code",
   "execution_count": 23,
   "id": "f1434431",
   "metadata": {
    "scrolled": true
   },
   "outputs": [
    {
     "data": {
      "text/plain": [
       "34                           [US$, 4,212,828]\n",
       "54      [$6,698,361 (, United States, ), [2]]\n",
       "74                    [$6,488,144, (US), [1]]\n",
       "126                [US$1,531,489, (domestic)]\n",
       "130                          [US$, 4,803,039]\n",
       "                        ...                  \n",
       "6980               [$99.6, million, [4], [5]]\n",
       "6994                   [$365.6, million, [1]]\n",
       "6995                         [$53.8, million]\n",
       "7015                     [$435, million, [7]]\n",
       "7048                   [$529.3, million, [4]]\n",
       "Name: Box office, Length: 135, dtype: object"
      ]
     },
     "execution_count": 23,
     "metadata": {},
     "output_type": "execute_result"
    }
   ],
   "source": [
    "def is_not_a_string(x):\n",
    "    return type(x) != str\n",
    "\n",
    "box_office[box_office.map(is_not_a_string)]"
   ]
  },
  {
   "cell_type": "code",
   "execution_count": 24,
   "id": "775e0c55",
   "metadata": {},
   "outputs": [
    {
     "data": {
      "text/plain": [
       "0       False\n",
       "1       False\n",
       "2       False\n",
       "3       False\n",
       "4       False\n",
       "        ...  \n",
       "7070    False\n",
       "7071    False\n",
       "7072    False\n",
       "7073    False\n",
       "7074    False\n",
       "Name: Box office, Length: 5485, dtype: bool"
      ]
     },
     "execution_count": 24,
     "metadata": {},
     "output_type": "execute_result"
    }
   ],
   "source": [
    "box_office.map(lambda x: type(x) != str)"
   ]
  },
  {
   "cell_type": "code",
   "execution_count": null,
   "id": "1476ea2e",
   "metadata": {},
   "outputs": [],
   "source": []
  },
  {
   "cell_type": "code",
   "execution_count": 25,
   "id": "1f0995af",
   "metadata": {},
   "outputs": [
    {
     "data": {
      "text/plain": [
       "34                           [US$, 4,212,828]\n",
       "54      [$6,698,361 (, United States, ), [2]]\n",
       "74                    [$6,488,144, (US), [1]]\n",
       "126                [US$1,531,489, (domestic)]\n",
       "130                          [US$, 4,803,039]\n",
       "                        ...                  \n",
       "6980               [$99.6, million, [4], [5]]\n",
       "6994                   [$365.6, million, [1]]\n",
       "6995                         [$53.8, million]\n",
       "7015                     [$435, million, [7]]\n",
       "7048                   [$529.3, million, [4]]\n",
       "Name: Box office, Length: 135, dtype: object"
      ]
     },
     "execution_count": 25,
     "metadata": {},
     "output_type": "execute_result"
    }
   ],
   "source": [
    "#lambda version of is not a string function\n",
    "#lambda x: type(x) != str\n",
    "\n",
    "box_office[box_office.map(lambda x: type(x) != str)]"
   ]
  },
  {
   "cell_type": "code",
   "execution_count": 26,
   "id": "936de35b",
   "metadata": {},
   "outputs": [
    {
     "data": {
      "text/plain": [
       "0                        $21.4 million\n",
       "1                         $2.7 million\n",
       "2                          $57,718,089\n",
       "3                           $7,331,647\n",
       "4                     $6,939,946 (USA)\n",
       "9                             $855,810\n",
       "10                      $195.3 million\n",
       "11                       $53.2 million\n",
       "12                       $15.7 million\n",
       "13                       $52.1 million\n",
       "14                      $244.5 million\n",
       "15                         $12,626,043\n",
       "17                         $19,740,070\n",
       "18                        $138,697,012\n",
       "20                          $1,292,323\n",
       "21                        $8.2 million\n",
       "22                       $15.6 million\n",
       "24                          $2,070,871\n",
       "25       $27.6 million (United States)\n",
       "27                             $10,173\n",
       "29                          $5 million\n",
       "33                       $35.8 million\n",
       "34                       US$ 4,212,828\n",
       "37                        $2.4 million\n",
       "39                            $947,306\n",
       "40                            $715,983\n",
       "42                       US$13,236,513\n",
       "43                        $8.3 million\n",
       "44                          $1,373,728\n",
       "45                      $424.2 million\n",
       "47                       $48.8 million\n",
       "49                      $157.9 million\n",
       "53                        $2.2 million\n",
       "54    $6,698,361 ( United States ) [2]\n",
       "56                   $2.7 million (US)\n",
       "57                      $162.7 million\n",
       "58                        $240 million\n",
       "61                          $2,346,150\n",
       "63                       $18.1 million\n",
       "64                         $86 million\n",
       "66                         $25 million\n",
       "67                          $1,372,350\n",
       "68                         $39 million\n",
       "72                         $14,760,451\n",
       "73                   $22,424,195 (USA)\n",
       "Name: Box office, dtype: object"
      ]
     },
     "execution_count": 26,
     "metadata": {},
     "output_type": "execute_result"
    }
   ],
   "source": [
    "#few of the values are stored in list.. we can join the values into strings\n",
    "box_office= box_office.apply(lambda x: ' '.join(x) if type(x) == list else x)\n",
    "box_office.head(45)"
   ]
  },
  {
   "cell_type": "code",
   "execution_count": 27,
   "id": "3bbe5b02",
   "metadata": {},
   "outputs": [
    {
     "data": {
      "text/plain": [
       "3903"
      ]
     },
     "execution_count": 27,
     "metadata": {},
     "output_type": "execute_result"
    }
   ],
   "source": [
    "#use regex to find the amount type is in which form\n",
    "# form 1 is of the type $123.4 million/billion.\n",
    "\n",
    "form_one = r'\\$\\s*\\d+\\.?\\d*\\s*[mb]illi?on'\n",
    "box_office.str.contains(form_one, flags=re.IGNORECASE).sum()\n"
   ]
  },
  {
   "cell_type": "code",
   "execution_count": 28,
   "id": "fb50ef34",
   "metadata": {},
   "outputs": [
    {
     "data": {
      "text/plain": [
       "1559"
      ]
     },
     "execution_count": 28,
     "metadata": {},
     "output_type": "execute_result"
    }
   ],
   "source": [
    "#form 2 is of the type \"$123,456,789\"\n",
    "\n",
    "form_two = r'\\$\\s*\\d{1,3}(?:[,\\.]\\d{3})+(?!\\s[mb]illion)'\n",
    "box_office.str.contains(form_two, flags=re.IGNORECASE).sum()"
   ]
  },
  {
   "cell_type": "code",
   "execution_count": 29,
   "id": "4d2b2805",
   "metadata": {},
   "outputs": [],
   "source": [
    "matches_form_one = box_office.str.contains(form_one, flags=re.IGNORECASE)\n",
    "matches_form_two = box_office.str.contains(form_two, flags=re.IGNORECASE)"
   ]
  },
  {
   "cell_type": "code",
   "execution_count": 30,
   "id": "f300aa49",
   "metadata": {},
   "outputs": [
    {
     "data": {
      "text/plain": [
       "25"
      ]
     },
     "execution_count": 30,
     "metadata": {},
     "output_type": "execute_result"
    }
   ],
   "source": [
    "#find values which are neither type 1 or 2\n",
    "box_office[~matches_form_one & ~matches_form_two].count()"
   ]
  },
  {
   "cell_type": "code",
   "execution_count": 31,
   "id": "6e151e4e",
   "metadata": {},
   "outputs": [],
   "source": [
    "#make a function which takes in a string\n",
    "# matches that against the regex provided\n",
    "def parse_dollars(s):\n",
    "    #if s is not a string return nan\n",
    "    if type(s) != str:\n",
    "        return np.nan\n",
    "    \n",
    "    #if input is of the form $###.# million  $566.6 milliion\n",
    "    if re.match(r'\\$\\s*\\d+\\.?\\d*\\s*milli?on', s, flags=re.IGNORECASE):\n",
    "        #remove dollar signs, spaces, commas, and letters\n",
    "        s = re.sub('\\$|\\s|[a-zA-Z]','', s)\n",
    "        \n",
    "        # convert to float and multiply by a million\n",
    "        value = float(s) * 10**6\n",
    "\n",
    "        # return value\n",
    "        return value\n",
    "    \n",
    "    #if input if of the form ####.# billion\n",
    "    elif re.match(r'\\$\\s*\\d+\\.?\\d*\\s*billi?on', s, flags=re.IGNORECASE):\n",
    "        #remove dollar sign, spaces, commas and letters\n",
    "        s=re.sub('\\$|\\s|[a-zA-Z]','',s)\n",
    "        \n",
    "        #convert to float and multiple by billion\n",
    "        value=float(s) * 10**9\n",
    "        return value\n",
    "    \n",
    "    #if input is of the form $###,###,###\n",
    "    elif re.match(r'\\$\\s*\\d{1,3}(?:[,\\.]\\d{3})+(?!\\s[mb]illion)',s,flags=re.IGNORECASE):\n",
    "        #remove $ sign and comma\n",
    "        s = re.sub('\\$|,','', s)\n",
    "        # convert to float\n",
    "        value = float(s)\n",
    "        # return value\n",
    "        return value\n",
    "    \n",
    "    else:\n",
    "        return np.nan\n",
    "    "
   ]
  },
  {
   "cell_type": "code",
   "execution_count": 32,
   "id": "a928c7aa",
   "metadata": {},
   "outputs": [],
   "source": [
    "#wiki_movies_df['box_office'] = box_office.str.extract(f'({form_one}|{form_two})', flags=re.IGNORECASE)[0].apply(parse_dollars)"
   ]
  },
  {
   "cell_type": "code",
   "execution_count": 33,
   "id": "328e43bb",
   "metadata": {
    "scrolled": true
   },
   "outputs": [
    {
     "name": "stderr",
     "output_type": "stream",
     "text": [
      "C:\\Users\\shail\\anaconda3\\envs\\PythonData\\lib\\site-packages\\IPython\\core\\interactiveshell.py:3166: DtypeWarning: Columns (10) have mixed types.Specify dtype option on import or set low_memory=False.\n",
      "  interactivity=interactivity, compiler=compiler, result=result)\n"
     ]
    }
   ],
   "source": [
    "#load the kaggle data into df\n",
    "movies_metadata=\"C:\\\\Users\\shail\\Movies-ETL\\movies_metadata.csv\"\n",
    "movies_metadata_pd=pd.read_csv(movies_metadata,low_memory=\"False\")\n",
    "\n",
    "#movies_metadata_pd.head()"
   ]
  },
  {
   "cell_type": "code",
   "execution_count": 34,
   "id": "73164d9d",
   "metadata": {},
   "outputs": [],
   "source": [
    "wiki_movies_df['box_office'] = box_office.str.extract(f'({form_one}|{form_two})', flags=re.IGNORECASE)[0].apply(parse_dollars)"
   ]
  },
  {
   "cell_type": "code",
   "execution_count": 35,
   "id": "1a491a59",
   "metadata": {
    "scrolled": true
   },
   "outputs": [
    {
     "name": "stdout",
     "output_type": "stream",
     "text": [
      "0       21400000.0\n",
      "1        2700000.0\n",
      "2       57718089.0\n",
      "3        7331647.0\n",
      "4        6939946.0\n",
      "           ...    \n",
      "7071    41900000.0\n",
      "7072    76100000.0\n",
      "7073    38400000.0\n",
      "7074     5500000.0\n",
      "7075           NaN\n",
      "Name: box_office, Length: 7033, dtype: float64\n"
     ]
    }
   ],
   "source": [
    "print(wiki_movies_df['box_office'])"
   ]
  },
  {
   "cell_type": "code",
   "execution_count": 36,
   "id": "5c1e5dda",
   "metadata": {},
   "outputs": [],
   "source": [
    "wiki_movies_df.drop('Box office', axis=1, inplace=True)"
   ]
  },
  {
   "cell_type": "code",
   "execution_count": 37,
   "id": "1440ce6c",
   "metadata": {},
   "outputs": [
    {
     "data": {
      "text/html": [
       "<div>\n",
       "<style scoped>\n",
       "    .dataframe tbody tr th:only-of-type {\n",
       "        vertical-align: middle;\n",
       "    }\n",
       "\n",
       "    .dataframe tbody tr th {\n",
       "        vertical-align: top;\n",
       "    }\n",
       "\n",
       "    .dataframe thead th {\n",
       "        text-align: right;\n",
       "    }\n",
       "</style>\n",
       "<table border=\"1\" class=\"dataframe\">\n",
       "  <thead>\n",
       "    <tr style=\"text-align: right;\">\n",
       "      <th></th>\n",
       "      <th>userId</th>\n",
       "      <th>movieId</th>\n",
       "      <th>rating</th>\n",
       "      <th>timestamp</th>\n",
       "    </tr>\n",
       "  </thead>\n",
       "  <tbody>\n",
       "    <tr>\n",
       "      <th>22170845</th>\n",
       "      <td>230139</td>\n",
       "      <td>1235</td>\n",
       "      <td>4.5</td>\n",
       "      <td>1432354399</td>\n",
       "    </tr>\n",
       "    <tr>\n",
       "      <th>22251868</th>\n",
       "      <td>230977</td>\n",
       "      <td>592</td>\n",
       "      <td>3.0</td>\n",
       "      <td>1294897559</td>\n",
       "    </tr>\n",
       "    <tr>\n",
       "      <th>21611292</th>\n",
       "      <td>224541</td>\n",
       "      <td>2067</td>\n",
       "      <td>5.0</td>\n",
       "      <td>964708384</td>\n",
       "    </tr>\n",
       "    <tr>\n",
       "      <th>1977446</th>\n",
       "      <td>20571</td>\n",
       "      <td>2406</td>\n",
       "      <td>4.0</td>\n",
       "      <td>978456852</td>\n",
       "    </tr>\n",
       "    <tr>\n",
       "      <th>12928763</th>\n",
       "      <td>134240</td>\n",
       "      <td>25828</td>\n",
       "      <td>4.0</td>\n",
       "      <td>1422608264</td>\n",
       "    </tr>\n",
       "    <tr>\n",
       "      <th>15753280</th>\n",
       "      <td>163853</td>\n",
       "      <td>2762</td>\n",
       "      <td>3.0</td>\n",
       "      <td>1379324241</td>\n",
       "    </tr>\n",
       "    <tr>\n",
       "      <th>1159872</th>\n",
       "      <td>11955</td>\n",
       "      <td>1084</td>\n",
       "      <td>3.0</td>\n",
       "      <td>1040086609</td>\n",
       "    </tr>\n",
       "  </tbody>\n",
       "</table>\n",
       "</div>"
      ],
      "text/plain": [
       "          userId  movieId  rating   timestamp\n",
       "22170845  230139     1235     4.5  1432354399\n",
       "22251868  230977      592     3.0  1294897559\n",
       "21611292  224541     2067     5.0   964708384\n",
       "1977446    20571     2406     4.0   978456852\n",
       "12928763  134240    25828     4.0  1422608264\n",
       "15753280  163853     2762     3.0  1379324241\n",
       "1159872    11955     1084     3.0  1040086609"
      ]
     },
     "execution_count": 37,
     "metadata": {},
     "output_type": "execute_result"
    }
   ],
   "source": [
    "ratings_path=os.path.join('ratings.csv')\n",
    "ratings_df=pd.read_csv(ratings_path)\n",
    "ratings_df.sample(n=7)"
   ]
  },
  {
   "cell_type": "code",
   "execution_count": 38,
   "id": "5f976a1d",
   "metadata": {},
   "outputs": [
    {
     "data": {
      "text/plain": [
       "Index(['url', 'year', 'imdb_link', 'title', 'Based on', 'Starring',\n",
       "       'Cinematography', 'Release date', 'Running time', 'Country', 'Language',\n",
       "       'Budget', 'Director', 'Distributor', 'Editor(s)', 'Composer(s)',\n",
       "       'Producer(s)', 'Production company(s)', 'Writer(s)', 'imdb_id',\n",
       "       'box_office'],\n",
       "      dtype='object')"
      ]
     },
     "execution_count": 38,
     "metadata": {},
     "output_type": "execute_result"
    }
   ],
   "source": [
    "wiki_movies_df.columns"
   ]
  },
  {
   "cell_type": "code",
   "execution_count": 39,
   "id": "047d7389",
   "metadata": {},
   "outputs": [],
   "source": [
    "#Now clean the budget colum the same way as box_office columm\n",
    "wiki_movies_df['Budget'].count()\n",
    "budget=wiki_movies_df['Budget'].dropna()\n"
   ]
  },
  {
   "cell_type": "code",
   "execution_count": 40,
   "id": "bd964e9f",
   "metadata": {
    "scrolled": true
   },
   "outputs": [
    {
     "data": {
      "text/plain": [
       "0        $20 million\n",
       "1         $6 million\n",
       "2        $35 million\n",
       "3        $12 million\n",
       "4        $25 million\n",
       "            ...     \n",
       "7070    €4.3 million\n",
       "7071     $42 million\n",
       "7072     $60 million\n",
       "7073     $20 million\n",
       "7074      $9 million\n",
       "Name: Budget, Length: 4738, dtype: object"
      ]
     },
     "execution_count": 40,
     "metadata": {},
     "output_type": "execute_result"
    }
   ],
   "source": [
    "budget"
   ]
  },
  {
   "cell_type": "code",
   "execution_count": 47,
   "id": "03035e39",
   "metadata": {},
   "outputs": [
    {
     "data": {
      "text/plain": [
       "7070    €4.3 million\n",
       "7071     $42 million\n",
       "7072     $60 million\n",
       "7073     $20 million\n",
       "7074      $9 million\n",
       "Name: Budget, dtype: object"
      ]
     },
     "execution_count": 47,
     "metadata": {},
     "output_type": "execute_result"
    }
   ],
   "source": [
    "budget.tail()"
   ]
  },
  {
   "cell_type": "code",
   "execution_count": 41,
   "id": "6497695e",
   "metadata": {},
   "outputs": [
    {
     "data": {
      "text/plain": [
       "0        $20 million\n",
       "1         $6 million\n",
       "2        $35 million\n",
       "3        $12 million\n",
       "4        $25 million\n",
       "            ...     \n",
       "7070    €4.3 million\n",
       "7071     $42 million\n",
       "7072     $60 million\n",
       "7073     $20 million\n",
       "7074      $9 million\n",
       "Name: Budget, Length: 4738, dtype: object"
      ]
     },
     "execution_count": 41,
     "metadata": {},
     "output_type": "execute_result"
    }
   ],
   "source": [
    "#Convert any lists to strings:\n",
    "budget.map(lambda x:' '.join(x) if type(x) == list else x)"
   ]
  },
  {
   "cell_type": "code",
   "execution_count": 42,
   "id": "a2cc285d",
   "metadata": {},
   "outputs": [
    {
     "data": {
      "text/plain": [
       "0        $20 million\n",
       "1         $6 million\n",
       "2        $35 million\n",
       "3        $12 million\n",
       "4        $25 million\n",
       "            ...     \n",
       "7070    €4.3 million\n",
       "7071     $42 million\n",
       "7072     $60 million\n",
       "7073     $20 million\n",
       "7074      $9 million\n",
       "Name: Budget, Length: 4738, dtype: object"
      ]
     },
     "execution_count": 42,
     "metadata": {},
     "output_type": "execute_result"
    }
   ],
   "source": [
    "budget"
   ]
  },
  {
   "cell_type": "code",
   "execution_count": 43,
   "id": "7324609e",
   "metadata": {},
   "outputs": [],
   "source": [
    "#Then remove any values between a dollar sign and a hyphen (for budgets given in ranges):  $20-25 million\n",
    "budget = budget.str.replace(r'\\$.*[-—–](?![a-z])', '$', regex=True)    "
   ]
  },
  {
   "cell_type": "code",
   "execution_count": 51,
   "id": "72dc681a",
   "metadata": {
    "scrolled": true
   },
   "outputs": [
    {
     "data": {
      "text/plain": [
       "0        $20 million\n",
       "1         $6 million\n",
       "2        $35 million\n",
       "3        $12 million\n",
       "4        $25 million\n",
       "            ...     \n",
       "7070    €4.3 million\n",
       "7071     $42 million\n",
       "7072     $60 million\n",
       "7073     $20 million\n",
       "7074      $9 million\n",
       "Name: Budget, Length: 4738, dtype: object"
      ]
     },
     "execution_count": 51,
     "metadata": {},
     "output_type": "execute_result"
    }
   ],
   "source": [
    "budget"
   ]
  },
  {
   "cell_type": "code",
   "execution_count": 65,
   "id": "071ffe90",
   "metadata": {},
   "outputs": [
    {
     "name": "stderr",
     "output_type": "stream",
     "text": [
      "C:\\Users\\shail\\anaconda3\\envs\\PythonData\\lib\\site-packages\\ipykernel_launcher.py:1: FutureWarning: The default value of regex will change from True to False in a future version.\n",
      "  \"\"\"Entry point for launching an IPython kernel.\n"
     ]
    }
   ],
   "source": [
    "budget = budget.str.replace(r'\\[\\d+\\]\\s*', '')"
   ]
  },
  {
   "cell_type": "code",
   "execution_count": 66,
   "id": "89fb6a21",
   "metadata": {},
   "outputs": [
    {
     "ename": "TypeError",
     "evalue": "bad operand type for unary ~: 'float'",
     "output_type": "error",
     "traceback": [
      "\u001b[1;31m---------------------------------------------------------------------------\u001b[0m",
      "\u001b[1;31mTypeError\u001b[0m                                 Traceback (most recent call last)",
      "\u001b[1;32m<ipython-input-66-da92a6fbd213>\u001b[0m in \u001b[0;36m<module>\u001b[1;34m\u001b[0m\n\u001b[0;32m      4\u001b[0m \u001b[1;33m\u001b[0m\u001b[0m\n\u001b[0;32m      5\u001b[0m \u001b[1;31m#box_office[~matches_form_one & ~matches_form_two].count()\u001b[0m\u001b[1;33m\u001b[0m\u001b[1;33m\u001b[0m\u001b[1;33m\u001b[0m\u001b[0m\n\u001b[1;32m----> 6\u001b[1;33m \u001b[0mbudget\u001b[0m\u001b[1;33m[\u001b[0m\u001b[1;33m~\u001b[0m\u001b[0mmatches_form_one\u001b[0m \u001b[1;33m&\u001b[0m \u001b[0mmatches_form_two\u001b[0m\u001b[1;33m]\u001b[0m\u001b[1;33m\u001b[0m\u001b[1;33m\u001b[0m\u001b[0m\n\u001b[0m\u001b[0;32m      7\u001b[0m \u001b[1;31m#matches_form_one\u001b[0m\u001b[1;33m\u001b[0m\u001b[1;33m\u001b[0m\u001b[1;33m\u001b[0m\u001b[0m\n",
      "\u001b[1;32m~\\anaconda3\\envs\\PythonData\\lib\\site-packages\\pandas\\core\\generic.py\u001b[0m in \u001b[0;36m__invert__\u001b[1;34m(self)\u001b[0m\n\u001b[0;32m   1434\u001b[0m             \u001b[1;32mreturn\u001b[0m \u001b[0mself\u001b[0m\u001b[1;33m\u001b[0m\u001b[1;33m\u001b[0m\u001b[0m\n\u001b[0;32m   1435\u001b[0m \u001b[1;33m\u001b[0m\u001b[0m\n\u001b[1;32m-> 1436\u001b[1;33m         \u001b[0mnew_data\u001b[0m \u001b[1;33m=\u001b[0m \u001b[0mself\u001b[0m\u001b[1;33m.\u001b[0m\u001b[0m_mgr\u001b[0m\u001b[1;33m.\u001b[0m\u001b[0mapply\u001b[0m\u001b[1;33m(\u001b[0m\u001b[0moperator\u001b[0m\u001b[1;33m.\u001b[0m\u001b[0minvert\u001b[0m\u001b[1;33m)\u001b[0m\u001b[1;33m\u001b[0m\u001b[1;33m\u001b[0m\u001b[0m\n\u001b[0m\u001b[0;32m   1437\u001b[0m         \u001b[0mresult\u001b[0m \u001b[1;33m=\u001b[0m \u001b[0mself\u001b[0m\u001b[1;33m.\u001b[0m\u001b[0m_constructor\u001b[0m\u001b[1;33m(\u001b[0m\u001b[0mnew_data\u001b[0m\u001b[1;33m)\u001b[0m\u001b[1;33m.\u001b[0m\u001b[0m__finalize__\u001b[0m\u001b[1;33m(\u001b[0m\u001b[0mself\u001b[0m\u001b[1;33m,\u001b[0m \u001b[0mmethod\u001b[0m\u001b[1;33m=\u001b[0m\u001b[1;34m\"__invert__\"\u001b[0m\u001b[1;33m)\u001b[0m\u001b[1;33m\u001b[0m\u001b[1;33m\u001b[0m\u001b[0m\n\u001b[0;32m   1438\u001b[0m         \u001b[1;32mreturn\u001b[0m \u001b[0mresult\u001b[0m\u001b[1;33m\u001b[0m\u001b[1;33m\u001b[0m\u001b[0m\n",
      "\u001b[1;32m~\\anaconda3\\envs\\PythonData\\lib\\site-packages\\pandas\\core\\internals\\managers.py\u001b[0m in \u001b[0;36mapply\u001b[1;34m(self, f, align_keys, ignore_failures, **kwargs)\u001b[0m\n\u001b[0;32m    423\u001b[0m             \u001b[1;32mtry\u001b[0m\u001b[1;33m:\u001b[0m\u001b[1;33m\u001b[0m\u001b[1;33m\u001b[0m\u001b[0m\n\u001b[0;32m    424\u001b[0m                 \u001b[1;32mif\u001b[0m \u001b[0mcallable\u001b[0m\u001b[1;33m(\u001b[0m\u001b[0mf\u001b[0m\u001b[1;33m)\u001b[0m\u001b[1;33m:\u001b[0m\u001b[1;33m\u001b[0m\u001b[1;33m\u001b[0m\u001b[0m\n\u001b[1;32m--> 425\u001b[1;33m                     \u001b[0mapplied\u001b[0m \u001b[1;33m=\u001b[0m \u001b[0mb\u001b[0m\u001b[1;33m.\u001b[0m\u001b[0mapply\u001b[0m\u001b[1;33m(\u001b[0m\u001b[0mf\u001b[0m\u001b[1;33m,\u001b[0m \u001b[1;33m**\u001b[0m\u001b[0mkwargs\u001b[0m\u001b[1;33m)\u001b[0m\u001b[1;33m\u001b[0m\u001b[1;33m\u001b[0m\u001b[0m\n\u001b[0m\u001b[0;32m    426\u001b[0m                 \u001b[1;32melse\u001b[0m\u001b[1;33m:\u001b[0m\u001b[1;33m\u001b[0m\u001b[1;33m\u001b[0m\u001b[0m\n\u001b[0;32m    427\u001b[0m                     \u001b[0mapplied\u001b[0m \u001b[1;33m=\u001b[0m \u001b[0mgetattr\u001b[0m\u001b[1;33m(\u001b[0m\u001b[0mb\u001b[0m\u001b[1;33m,\u001b[0m \u001b[0mf\u001b[0m\u001b[1;33m)\u001b[0m\u001b[1;33m(\u001b[0m\u001b[1;33m**\u001b[0m\u001b[0mkwargs\u001b[0m\u001b[1;33m)\u001b[0m\u001b[1;33m\u001b[0m\u001b[1;33m\u001b[0m\u001b[0m\n",
      "\u001b[1;32m~\\anaconda3\\envs\\PythonData\\lib\\site-packages\\pandas\\core\\internals\\blocks.py\u001b[0m in \u001b[0;36mapply\u001b[1;34m(self, func, **kwargs)\u001b[0m\n\u001b[0;32m    376\u001b[0m         \"\"\"\n\u001b[0;32m    377\u001b[0m         \u001b[1;32mwith\u001b[0m \u001b[0mnp\u001b[0m\u001b[1;33m.\u001b[0m\u001b[0merrstate\u001b[0m\u001b[1;33m(\u001b[0m\u001b[0mall\u001b[0m\u001b[1;33m=\u001b[0m\u001b[1;34m\"ignore\"\u001b[0m\u001b[1;33m)\u001b[0m\u001b[1;33m:\u001b[0m\u001b[1;33m\u001b[0m\u001b[1;33m\u001b[0m\u001b[0m\n\u001b[1;32m--> 378\u001b[1;33m             \u001b[0mresult\u001b[0m \u001b[1;33m=\u001b[0m \u001b[0mfunc\u001b[0m\u001b[1;33m(\u001b[0m\u001b[0mself\u001b[0m\u001b[1;33m.\u001b[0m\u001b[0mvalues\u001b[0m\u001b[1;33m,\u001b[0m \u001b[1;33m**\u001b[0m\u001b[0mkwargs\u001b[0m\u001b[1;33m)\u001b[0m\u001b[1;33m\u001b[0m\u001b[1;33m\u001b[0m\u001b[0m\n\u001b[0m\u001b[0;32m    379\u001b[0m \u001b[1;33m\u001b[0m\u001b[0m\n\u001b[0;32m    380\u001b[0m         \u001b[1;32mreturn\u001b[0m \u001b[0mself\u001b[0m\u001b[1;33m.\u001b[0m\u001b[0m_split_op_result\u001b[0m\u001b[1;33m(\u001b[0m\u001b[0mresult\u001b[0m\u001b[1;33m)\u001b[0m\u001b[1;33m\u001b[0m\u001b[1;33m\u001b[0m\u001b[0m\n",
      "\u001b[1;31mTypeError\u001b[0m: bad operand type for unary ~: 'float'"
     ]
    }
   ],
   "source": [
    "matches_form_one = budget.str.contains(form_one, flags=re.IGNORECASE)\n",
    "matches_form_two = budget.str.contains(form_two, flags=re.IGNORECASE)\n",
    "\n",
    "\n",
    "#box_office[~matches_form_one & ~matches_form_two].count()\n",
    "budget[~matches_form_one & matches_form_two]\n",
    "#matches_form_one"
   ]
  },
  {
   "cell_type": "code",
   "execution_count": 67,
   "id": "a9bfd856",
   "metadata": {},
   "outputs": [],
   "source": [
    "wiki_movies_df['budget'] = budget.str.extract(f'({form_one}|{form_two})', flags=re.IGNORECASE)[0].apply(parse_dollars)"
   ]
  },
  {
   "cell_type": "code",
   "execution_count": 68,
   "id": "a85218da",
   "metadata": {},
   "outputs": [],
   "source": [
    "wiki_movies_df.drop('Budget', axis=1, inplace=True)"
   ]
  },
  {
   "cell_type": "code",
   "execution_count": 69,
   "id": "52d0baa9",
   "metadata": {},
   "outputs": [
    {
     "data": {
      "text/plain": [
       "Index(['url', 'year', 'imdb_link', 'title', 'Based on', 'Starring',\n",
       "       'Cinematography', 'Release date', 'Running time', 'Country', 'Language',\n",
       "       'Director', 'Distributor', 'Editor(s)', 'Composer(s)', 'Producer(s)',\n",
       "       'Production company(s)', 'Writer(s)', 'imdb_id', 'box_office',\n",
       "       'budget'],\n",
       "      dtype='object')"
      ]
     },
     "execution_count": 69,
     "metadata": {},
     "output_type": "execute_result"
    }
   ],
   "source": [
    "#parse the release date column now\n",
    "wiki_movies_df.columns"
   ]
  },
  {
   "cell_type": "code",
   "execution_count": 70,
   "id": "d1da690d",
   "metadata": {},
   "outputs": [
    {
     "data": {
      "text/plain": [
       "0                       [July 11, 1990, (, 1990-07-11, )]\n",
       "1       [May 17, 1990, (, 1990-05-17, ), (Cannes Film ...\n",
       "2                     [August 10, 1990, (, 1990-08-10, )]\n",
       "3                   [December 25, 1990, (, 1990-12-25, )]\n",
       "4                                       December 19, 1990\n",
       "                              ...                        \n",
       "7071    [December 25, 2018, (, 2018-12-25, ), (United ...\n",
       "7072    [December 11, 2018, (, 2018-12-11, ), (, Samue...\n",
       "7073    [November 8, 2018, (, 2018-11-08, ), (, AFI Fe...\n",
       "7074    [August 31, 2018, (, 2018-08-31, ), (, Telluri...\n",
       "7075                 [28 December 2018, (, 2018-12-28, )]\n",
       "Name: Release date, Length: 7033, dtype: object"
      ]
     },
     "execution_count": 70,
     "metadata": {},
     "output_type": "execute_result"
    }
   ],
   "source": [
    "wiki_movies_df['Release date']"
   ]
  },
  {
   "cell_type": "code",
   "execution_count": 82,
   "id": "02d67888",
   "metadata": {},
   "outputs": [],
   "source": [
    "#converting all values from list to string\n",
    "release_date=wiki_movies_df['Release date'].dropna().apply(lambda x: ' '.join(x) if type(x)== list else x)"
   ]
  },
  {
   "cell_type": "code",
   "execution_count": 83,
   "id": "7ffdb703",
   "metadata": {},
   "outputs": [],
   "source": [
    "#Parsing Full month name, one- to two-digit day, four-digit year (i.e., January 1, 2000)\n",
    "date_form_one = r'(?:January|February|March|April|May|June|July|August|September|October|November|December)\\s[123]\\d,\\s\\d{4}'\n",
    "\n",
    "#Four-digit year, two-digit month, two-digit day, with any separator (i.e., 2000-01-01)\n",
    "date_form_two=r'\\d{4}.[01]\\d.[123]\\d'\n",
    "\n",
    "#Full month name, four-digit year (i.e., January 2000)\n",
    "date_form_three=r'(?:January|February|March|April|May|June|July|August|September|October|November|December)\\s\\d{4}'\n",
    "\n",
    "#Four-digit year\n",
    "date_form_four=r'\\d{4}'"
   ]
  },
  {
   "cell_type": "code",
   "execution_count": 84,
   "id": "f59a8b19",
   "metadata": {},
   "outputs": [
    {
     "data": {
      "text/html": [
       "<div>\n",
       "<style scoped>\n",
       "    .dataframe tbody tr th:only-of-type {\n",
       "        vertical-align: middle;\n",
       "    }\n",
       "\n",
       "    .dataframe tbody tr th {\n",
       "        vertical-align: top;\n",
       "    }\n",
       "\n",
       "    .dataframe thead th {\n",
       "        text-align: right;\n",
       "    }\n",
       "</style>\n",
       "<table border=\"1\" class=\"dataframe\">\n",
       "  <thead>\n",
       "    <tr style=\"text-align: right;\">\n",
       "      <th></th>\n",
       "      <th>0</th>\n",
       "    </tr>\n",
       "  </thead>\n",
       "  <tbody>\n",
       "    <tr>\n",
       "      <th>0</th>\n",
       "      <td>July 11, 1990</td>\n",
       "    </tr>\n",
       "    <tr>\n",
       "      <th>1</th>\n",
       "      <td>May 17, 1990</td>\n",
       "    </tr>\n",
       "    <tr>\n",
       "      <th>2</th>\n",
       "      <td>August 10, 1990</td>\n",
       "    </tr>\n",
       "    <tr>\n",
       "      <th>3</th>\n",
       "      <td>December 25, 1990</td>\n",
       "    </tr>\n",
       "    <tr>\n",
       "      <th>4</th>\n",
       "      <td>December 19, 1990</td>\n",
       "    </tr>\n",
       "    <tr>\n",
       "      <th>...</th>\n",
       "      <td>...</td>\n",
       "    </tr>\n",
       "    <tr>\n",
       "      <th>7071</th>\n",
       "      <td>December 25, 2018</td>\n",
       "    </tr>\n",
       "    <tr>\n",
       "      <th>7072</th>\n",
       "      <td>December 11, 2018</td>\n",
       "    </tr>\n",
       "    <tr>\n",
       "      <th>7073</th>\n",
       "      <td>2018</td>\n",
       "    </tr>\n",
       "    <tr>\n",
       "      <th>7074</th>\n",
       "      <td>August 31, 2018</td>\n",
       "    </tr>\n",
       "    <tr>\n",
       "      <th>7075</th>\n",
       "      <td>December 2018</td>\n",
       "    </tr>\n",
       "  </tbody>\n",
       "</table>\n",
       "<p>7001 rows × 1 columns</p>\n",
       "</div>"
      ],
      "text/plain": [
       "                      0\n",
       "0         July 11, 1990\n",
       "1          May 17, 1990\n",
       "2       August 10, 1990\n",
       "3     December 25, 1990\n",
       "4     December 19, 1990\n",
       "...                 ...\n",
       "7071  December 25, 2018\n",
       "7072  December 11, 2018\n",
       "7073               2018\n",
       "7074    August 31, 2018\n",
       "7075      December 2018\n",
       "\n",
       "[7001 rows x 1 columns]"
      ]
     },
     "execution_count": 84,
     "metadata": {},
     "output_type": "execute_result"
    }
   ],
   "source": [
    "release_date.str.extract(f'({date_form_one}|{date_form_two}|{date_form_three}|{date_form_four})', flags=re.IGNORECASE)"
   ]
  },
  {
   "cell_type": "code",
   "execution_count": 85,
   "id": "96d42890",
   "metadata": {},
   "outputs": [],
   "source": [
    "wiki_movies_df['release_date'] = pd.to_datetime(release_date.str.extract(f'({date_form_one}|{date_form_two}|{date_form_three}|{date_form_four})')[0], infer_datetime_format=True)"
   ]
  },
  {
   "cell_type": "code",
   "execution_count": 86,
   "id": "17a527cc",
   "metadata": {},
   "outputs": [],
   "source": [
    "#Parse running type\n",
    "running_time = wiki_movies_df['Running time'].dropna().apply(lambda x: ' '.join(x) if type(x) == list else x)"
   ]
  },
  {
   "cell_type": "code",
   "execution_count": 87,
   "id": "6002d614",
   "metadata": {},
   "outputs": [
    {
     "data": {
      "text/plain": [
       "0                                 102 minutes\n",
       "1                                 114 minutes\n",
       "2                                 113 minutes\n",
       "3                                 106 minutes\n",
       "4                                  95 minutes\n",
       "                        ...                  \n",
       "7071                               90 minutes\n",
       "7072                              132 minutes\n",
       "7073                              120 minutes\n",
       "7074                              123 minutes\n",
       "7075    Variable; 90 minutes for default path\n",
       "Name: Running time, Length: 6894, dtype: object"
      ]
     },
     "execution_count": 87,
     "metadata": {},
     "output_type": "execute_result"
    }
   ],
   "source": [
    "running_time"
   ]
  },
  {
   "cell_type": "code",
   "execution_count": null,
   "id": "c0ee7ab3",
   "metadata": {},
   "outputs": [],
   "source": [
    "#Use string boundaries to find how many values are of the type \"100 minutes etc\"\n",
    "\n",
    "print(running_time[running_time.str.contains(r'^\\d*\\s*minutes$', flags=re.IGNORECASE) != True])"
   ]
  }
 ],
 "metadata": {
  "kernelspec": {
   "display_name": "PythonData",
   "language": "python",
   "name": "pythondata"
  },
  "language_info": {
   "codemirror_mode": {
    "name": "ipython",
    "version": 3
   },
   "file_extension": ".py",
   "mimetype": "text/x-python",
   "name": "python",
   "nbconvert_exporter": "python",
   "pygments_lexer": "ipython3",
   "version": "3.7.10"
  }
 },
 "nbformat": 4,
 "nbformat_minor": 5
}
